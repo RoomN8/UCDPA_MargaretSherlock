{
 "cells": [
  {
   "cell_type": "code",
   "execution_count": 2,
   "id": "3b888173-266a-4932-a0ef-989d9b47ba47",
   "metadata": {},
   "outputs": [],
   "source": [
    "import pandas as pd"
   ]
  },
  {
   "cell_type": "code",
   "execution_count": 3,
   "id": "1376c52f-e682-465f-83a7-a0434f3dc36d",
   "metadata": {},
   "outputs": [],
   "source": [
    "import numpy as np"
   ]
  },
  {
   "cell_type": "code",
   "execution_count": 53,
   "id": "43817e73-ecbf-4e08-b52d-8cf4a126a575",
   "metadata": {},
   "outputs": [],
   "source": [
    "from sklearn.model_selection import train_test_split, GridSearchCV, StratifiedKFold, cross_val_score"
   ]
  },
  {
   "cell_type": "code",
   "execution_count": 54,
   "id": "7cfb7327-d39a-4fbf-88aa-53090898de46",
   "metadata": {},
   "outputs": [],
   "source": [
    "from sklearn.model_selection import cross_validate"
   ]
  },
  {
   "cell_type": "code",
   "execution_count": 79,
   "id": "3aa7688f-47b3-49a7-943e-3a002c0b0de7",
   "metadata": {},
   "outputs": [],
   "source": [
    "spreadsheet = pd.read_csv('/Users/margaretsherlock/Documents/UCDPA Course Assignment/10 Years of Movie Awards.csv')"
   ]
  },
  {
   "cell_type": "code",
   "execution_count": 81,
   "id": "d6d31154-1ebd-46de-96bd-065a9aa1bef8",
   "metadata": {},
   "outputs": [
    {
     "data": {
      "text/html": [
       "<div>\n",
       "<style scoped>\n",
       "    .dataframe tbody tr th:only-of-type {\n",
       "        vertical-align: middle;\n",
       "    }\n",
       "\n",
       "    .dataframe tbody tr th {\n",
       "        vertical-align: top;\n",
       "    }\n",
       "\n",
       "    .dataframe thead th {\n",
       "        text-align: right;\n",
       "    }\n",
       "</style>\n",
       "<table border=\"1\" class=\"dataframe\">\n",
       "  <thead>\n",
       "    <tr style=\"text-align: right;\">\n",
       "      <th></th>\n",
       "      <th>Year</th>\n",
       "      <th>Name of Flim2</th>\n",
       "      <th>Rotten Tomatoes Rating</th>\n",
       "      <th>Award</th>\n",
       "      <th>Categories</th>\n",
       "      <th>Award Category</th>\n",
       "    </tr>\n",
       "  </thead>\n",
       "  <tbody>\n",
       "    <tr>\n",
       "      <th>0</th>\n",
       "      <td>2013</td>\n",
       "      <td>The Great Gatsby</td>\n",
       "      <td>48%</td>\n",
       "      <td>Acadamy Awards</td>\n",
       "      <td>Costume Design</td>\n",
       "      <td>Acadamy Awards -  Costume Design</td>\n",
       "    </tr>\n",
       "    <tr>\n",
       "      <th>1</th>\n",
       "      <td>2013</td>\n",
       "      <td>The Great Gatsby</td>\n",
       "      <td>48%</td>\n",
       "      <td>Acadamy Awards</td>\n",
       "      <td>Production Design</td>\n",
       "      <td>Acadamy Awards -  Production Design</td>\n",
       "    </tr>\n",
       "    <tr>\n",
       "      <th>2</th>\n",
       "      <td>2013</td>\n",
       "      <td>The Great Beauty.</td>\n",
       "      <td>91%</td>\n",
       "      <td>Acadamy Awards</td>\n",
       "      <td>Foreign Language Filme</td>\n",
       "      <td>Acadamy Awards -  Foreign Language Filme</td>\n",
       "    </tr>\n",
       "    <tr>\n",
       "      <th>3</th>\n",
       "      <td>2013</td>\n",
       "      <td>Her</td>\n",
       "      <td>94%</td>\n",
       "      <td>Acadamy Awards</td>\n",
       "      <td>Original Screenplay</td>\n",
       "      <td>Acadamy Awards -  Original Screenplay</td>\n",
       "    </tr>\n",
       "    <tr>\n",
       "      <th>4</th>\n",
       "      <td>2013</td>\n",
       "      <td>GRAVITY</td>\n",
       "      <td>96%</td>\n",
       "      <td>Acadamy Awards</td>\n",
       "      <td>Best Director</td>\n",
       "      <td>Acadamy Awards -  Best Director</td>\n",
       "    </tr>\n",
       "  </tbody>\n",
       "</table>\n",
       "</div>"
      ],
      "text/plain": [
       "   Year       Name of Flim2 Rotten Tomatoes Rating           Award  \\\n",
       "0  2013   The Great Gatsby                     48%  Acadamy Awards   \n",
       "1  2013   The Great Gatsby                     48%  Acadamy Awards   \n",
       "2  2013  The Great Beauty.                     91%  Acadamy Awards   \n",
       "3  2013               Her                      94%  Acadamy Awards   \n",
       "4  2013            GRAVITY                     96%  Acadamy Awards   \n",
       "\n",
       "                Categories                            Award Category  \n",
       "0           Costume Design          Acadamy Awards -  Costume Design  \n",
       "1        Production Design       Acadamy Awards -  Production Design  \n",
       "2   Foreign Language Filme  Acadamy Awards -  Foreign Language Filme  \n",
       "3      Original Screenplay     Acadamy Awards -  Original Screenplay  \n",
       "4            Best Director           Acadamy Awards -  Best Director  "
      ]
     },
     "execution_count": 81,
     "metadata": {},
     "output_type": "execute_result"
    }
   ],
   "source": [
    "spreadsheet.head ()"
   ]
  },
  {
   "cell_type": "code",
   "execution_count": 9,
   "id": "7c8c3373-b2f0-4e1d-859f-b4f976839806",
   "metadata": {},
   "outputs": [
    {
     "name": "stdout",
     "output_type": "stream",
     "text": [
      "Collecting scikit-learn\n",
      "  Downloading scikit_learn-1.2.1-cp310-cp310-macosx_10_9_x86_64.whl (9.1 MB)\n",
      "\u001b[2K     \u001b[90m━━━━━━━━━━━━━━━━━━━━━━━━━━━━━━━━━━━━━━━━\u001b[0m \u001b[32m9.1/9.1 MB\u001b[0m \u001b[31m23.8 MB/s\u001b[0m eta \u001b[36m0:00:00\u001b[0m00:01\u001b[0m00:01\u001b[0m\n",
      "\u001b[?25hRequirement already satisfied: numpy>=1.17.3 in /Users/margaretsherlock/opt/anaconda3/envs/ucdpa_MargaretSherlock/lib/python3.10/site-packages (from scikit-learn) (1.23.5)\n",
      "Collecting scipy>=1.3.2\n",
      "  Downloading scipy-1.10.1-cp310-cp310-macosx_10_9_x86_64.whl (35.1 MB)\n",
      "\u001b[2K     \u001b[90m━━━━━━━━━━━━━━━━━━━━━━━━━━━━━━━━━━━━━━━━\u001b[0m \u001b[32m35.1/35.1 MB\u001b[0m \u001b[31m32.4 MB/s\u001b[0m eta \u001b[36m0:00:00\u001b[0m00:01\u001b[0m00:01\u001b[0m\n",
      "\u001b[?25hCollecting joblib>=1.1.1\n",
      "  Downloading joblib-1.2.0-py3-none-any.whl (297 kB)\n",
      "\u001b[2K     \u001b[90m━━━━━━━━━━━━━━━━━━━━━━━━━━━━━━━━━━━━━━\u001b[0m \u001b[32m298.0/298.0 kB\u001b[0m \u001b[31m12.5 MB/s\u001b[0m eta \u001b[36m0:00:00\u001b[0m\n",
      "\u001b[?25hCollecting threadpoolctl>=2.0.0\n",
      "  Downloading threadpoolctl-3.1.0-py3-none-any.whl (14 kB)\n",
      "Installing collected packages: threadpoolctl, scipy, joblib, scikit-learn\n",
      "Successfully installed joblib-1.2.0 scikit-learn-1.2.1 scipy-1.10.1 threadpoolctl-3.1.0\n"
     ]
    }
   ],
   "source": [
    "!pip install scikit-learn"
   ]
  },
  {
   "cell_type": "code",
   "execution_count": 11,
   "id": "a93b656e-1378-413c-b8c7-e943f29f20ca",
   "metadata": {},
   "outputs": [],
   "source": [
    "import sklearn as sl"
   ]
  },
  {
   "cell_type": "code",
   "execution_count": 190,
   "id": "bfcd9719-866d-4676-a89c-889bb93eb0f0",
   "metadata": {},
   "outputs": [],
   "source": [
    "from sklearn.model_selection import train_test_split, GridSearchCV, StratifiedKFold, cross_val_score"
   ]
  },
  {
   "cell_type": "code",
   "execution_count": 13,
   "id": "f1529e53-0fa2-41d4-a06a-c0e8b32def59",
   "metadata": {},
   "outputs": [],
   "source": [
    "from sklearn.model_selection import cross_validate"
   ]
  },
  {
   "cell_type": "code",
   "execution_count": 19,
   "id": "083e9125-aa9b-4555-86bc-00d13a28fe3a",
   "metadata": {},
   "outputs": [],
   "source": [
    "from sklearn.metrics import accuracy_score, precision_score, recall_score, roc_curve, precision_recall_curve, auc, make_scorer, confusion_matrix, f1_score, fbeta_score# Import the Naive Bayes, logistic regression, Bagging, RandomForest, AdaBoost, GradientBoost, Decision Trees and SVM Classifier from sklearn.naive_bayes import MultinomialNB"
   ]
  },
  {
   "cell_type": "code",
   "execution_count": 24,
   "id": "eb10ccb0-2bdf-4e26-8766-20375d3bf72d",
   "metadata": {},
   "outputs": [],
   "source": [
    "from sklearn.ensemble import BaggingClassifier, RandomForestClassifier, AdaBoostClassifier, GradientBoostingClassifier, GradientBoostingClassifier"
   ]
  },
  {
   "cell_type": "code",
   "execution_count": 25,
   "id": "86f3e788-9c0a-4d4e-a69a-e5a2ff9eea83",
   "metadata": {},
   "outputs": [],
   "source": [
    "from sklearn.linear_model import LogisticRegression"
   ]
  },
  {
   "cell_type": "code",
   "execution_count": null,
   "id": "3c30d018-67d7-433b-b72e-59f363f62d5b",
   "metadata": {},
   "outputs": [],
   "source": [
    "from sklearn.tree import DecisionTreeClassifier"
   ]
  },
  {
   "cell_type": "code",
   "execution_count": 26,
   "id": "701a1ed9-4a93-40bf-b94b-c237ce202f70",
   "metadata": {},
   "outputs": [],
   "source": [
    "from sklearn import svm"
   ]
  },
  {
   "cell_type": "code",
   "execution_count": 59,
   "id": "4e951dda-ac71-4412-a5e8-d7b765ae97d6",
   "metadata": {},
   "outputs": [
    {
     "name": "stdout",
     "output_type": "stream",
     "text": [
      "Collecting StandardScaler\n",
      "  Downloading StandardScaler-0.5.tar.gz (2.4 kB)\n",
      "  Preparing metadata (setup.py) ... \u001b[?25ldone\n",
      "\u001b[?25hRequirement already satisfied: numpy in /Users/margaretsherlock/opt/anaconda3/envs/ucdpa_MargaretSherlock/lib/python3.10/site-packages (from StandardScaler) (1.23.5)\n",
      "Requirement already satisfied: pandas in /Users/margaretsherlock/opt/anaconda3/envs/ucdpa_MargaretSherlock/lib/python3.10/site-packages (from StandardScaler) (1.5.3)\n",
      "Requirement already satisfied: scikit-learn in /Users/margaretsherlock/opt/anaconda3/envs/ucdpa_MargaretSherlock/lib/python3.10/site-packages (from StandardScaler) (1.2.1)\n",
      "Collecting scikit-elm\n",
      "  Downloading scikit_elm-0.21a0-py3-none-any.whl (30 kB)\n",
      "Collecting dask\n",
      "  Downloading dask-2023.3.0-py3-none-any.whl (1.2 MB)\n",
      "\u001b[2K     \u001b[90m━━━━━━━━━━━━━━━━━━━━━━━━━━━━━━━━━━━━━━━━\u001b[0m \u001b[32m1.2/1.2 MB\u001b[0m \u001b[31m12.9 MB/s\u001b[0m eta \u001b[36m0:00:00\u001b[0m00:01\u001b[0m0:01\u001b[0m\n",
      "\u001b[?25hRequirement already satisfied: packaging>=20.0 in /Users/margaretsherlock/opt/anaconda3/envs/ucdpa_MargaretSherlock/lib/python3.10/site-packages (from dask->StandardScaler) (22.0)\n",
      "Collecting partd>=1.2.0\n",
      "  Downloading partd-1.3.0-py3-none-any.whl (18 kB)\n",
      "Collecting toolz>=0.8.2\n",
      "  Downloading toolz-0.12.0-py3-none-any.whl (55 kB)\n",
      "\u001b[2K     \u001b[90m━━━━━━━━━━━━━━━━━━━━━━━━━━━━━━━━━━━━━━━━\u001b[0m \u001b[32m55.8/55.8 kB\u001b[0m \u001b[31m2.2 MB/s\u001b[0m eta \u001b[36m0:00:00\u001b[0m\n",
      "\u001b[?25hCollecting cloudpickle>=1.1.1\n",
      "  Downloading cloudpickle-2.2.1-py3-none-any.whl (25 kB)\n",
      "Collecting fsspec>=0.6.0\n",
      "  Downloading fsspec-2023.3.0-py3-none-any.whl (145 kB)\n",
      "\u001b[2K     \u001b[90m━━━━━━━━━━━━━━━━━━━━━━━━━━━━━━━━━━━━━━━\u001b[0m \u001b[32m145.4/145.4 kB\u001b[0m \u001b[31m6.5 MB/s\u001b[0m eta \u001b[36m0:00:00\u001b[0m\n",
      "\u001b[?25hCollecting click>=7.0\n",
      "  Downloading click-8.1.3-py3-none-any.whl (96 kB)\n",
      "\u001b[2K     \u001b[90m━━━━━━━━━━━━━━━━━━━━━━━━━━━━━━━━━━━━━━━━\u001b[0m \u001b[32m96.6/96.6 kB\u001b[0m \u001b[31m4.4 MB/s\u001b[0m eta \u001b[36m0:00:00\u001b[0m\n",
      "\u001b[?25hCollecting pyyaml>=5.3.1\n",
      "  Downloading PyYAML-6.0-cp310-cp310-macosx_10_9_x86_64.whl (197 kB)\n",
      "\u001b[2K     \u001b[90m━━━━━━━━━━━━━━━━━━━━━━━━━━━━━━━━━━━━━━\u001b[0m \u001b[32m197.6/197.6 kB\u001b[0m \u001b[31m18.9 MB/s\u001b[0m eta \u001b[36m0:00:00\u001b[0m\n",
      "\u001b[?25hRequirement already satisfied: python-dateutil>=2.8.1 in /Users/margaretsherlock/opt/anaconda3/envs/ucdpa_MargaretSherlock/lib/python3.10/site-packages (from pandas->StandardScaler) (2.8.2)\n",
      "Requirement already satisfied: pytz>=2020.1 in /Users/margaretsherlock/opt/anaconda3/envs/ucdpa_MargaretSherlock/lib/python3.10/site-packages (from pandas->StandardScaler) (2022.7)\n",
      "Requirement already satisfied: scipy in /Users/margaretsherlock/opt/anaconda3/envs/ucdpa_MargaretSherlock/lib/python3.10/site-packages (from scikit-elm->StandardScaler) (1.10.1)\n",
      "Requirement already satisfied: threadpoolctl>=2.0.0 in /Users/margaretsherlock/opt/anaconda3/envs/ucdpa_MargaretSherlock/lib/python3.10/site-packages (from scikit-learn->StandardScaler) (3.1.0)\n",
      "Requirement already satisfied: joblib>=1.1.1 in /Users/margaretsherlock/opt/anaconda3/envs/ucdpa_MargaretSherlock/lib/python3.10/site-packages (from scikit-learn->StandardScaler) (1.2.0)\n",
      "Collecting locket\n",
      "  Downloading locket-1.0.0-py2.py3-none-any.whl (4.4 kB)\n",
      "Requirement already satisfied: six>=1.5 in /Users/margaretsherlock/opt/anaconda3/envs/ucdpa_MargaretSherlock/lib/python3.10/site-packages (from python-dateutil>=2.8.1->pandas->StandardScaler) (1.16.0)\n",
      "Building wheels for collected packages: StandardScaler\n",
      "  Building wheel for StandardScaler (setup.py) ... \u001b[?25ldone\n",
      "\u001b[?25h  Created wheel for StandardScaler: filename=StandardScaler-0.5-py3-none-any.whl size=2597 sha256=c377fa18380054bd962d58312a69dbe5453a9261ec28583a271327a9e723e84b\n",
      "  Stored in directory: /Users/margaretsherlock/Library/Caches/pip/wheels/7e/d4/b2/d1ecb2ec8caad1c186826e4faa602a63a5501f553e38a211b0\n",
      "Successfully built StandardScaler\n",
      "Installing collected packages: toolz, pyyaml, locket, fsspec, cloudpickle, click, partd, scikit-elm, dask, StandardScaler\n",
      "Successfully installed StandardScaler-0.5 click-8.1.3 cloudpickle-2.2.1 dask-2023.3.0 fsspec-2023.3.0 locket-1.0.0 partd-1.3.0 pyyaml-6.0 scikit-elm-0.21a0 toolz-0.12.0\n"
     ]
    }
   ],
   "source": [
    "!pip install StandardScaler"
   ]
  },
  {
   "cell_type": "code",
   "execution_count": 61,
   "id": "c3bffd2e-0bb7-4b47-99fc-62e58668d968",
   "metadata": {},
   "outputs": [],
   "source": [
    "import matplotlib.pyplot as plt"
   ]
  },
  {
   "cell_type": "code",
   "execution_count": 32,
   "id": "402d964c-404d-4560-bb6e-66a428ecf5d1",
   "metadata": {},
   "outputs": [],
   "source": [
    "%matplotlib inline"
   ]
  },
  {
   "cell_type": "code",
   "execution_count": 33,
   "id": "484da528-e3db-4385-b208-23d9393d2542",
   "metadata": {},
   "outputs": [],
   "source": [
    "#from matplotlib import style"
   ]
  },
  {
   "cell_type": "code",
   "execution_count": 34,
   "id": "c4e6ce13-977b-4d2a-86be-6a4ed9d2c932",
   "metadata": {},
   "outputs": [],
   "source": [
    "#plt.style.use('bmh')"
   ]
  },
  {
   "cell_type": "code",
   "execution_count": 35,
   "id": "6eae48b5-308b-4424-8c2c-997c3b2dfab8",
   "metadata": {},
   "outputs": [],
   "source": [
    "#plt.style.use('ggplot')"
   ]
  },
  {
   "cell_type": "code",
   "execution_count": 69,
   "id": "0afb3078-cc91-4555-af9b-d1248b01882a",
   "metadata": {},
   "outputs": [],
   "source": [
    "from matplotlib.ticker import StrMethodFormatter"
   ]
  },
  {
   "cell_type": "code",
   "execution_count": 37,
   "id": "53559b84-223b-40f6-99fa-771e95d386d2",
   "metadata": {},
   "outputs": [
    {
     "name": "stdout",
     "output_type": "stream",
     "text": [
      "Collecting xgboost\n",
      "  Downloading xgboost-1.7.4-py3-none-macosx_10_15_x86_64.macosx_11_0_x86_64.macosx_12_0_x86_64.whl (1.8 MB)\n",
      "\u001b[2K     \u001b[90m━━━━━━━━━━━━━━━━━━━━━━━━━━━━━━━━━━━━━━━━\u001b[0m \u001b[32m1.8/1.8 MB\u001b[0m \u001b[31m5.1 MB/s\u001b[0m eta \u001b[36m0:00:00\u001b[0m00:01\u001b[0m00:01\u001b[0m0m\n",
      "\u001b[?25hRequirement already satisfied: numpy in /Users/margaretsherlock/opt/anaconda3/envs/ucdpa_MargaretSherlock/lib/python3.10/site-packages (from xgboost) (1.23.5)\n",
      "Requirement already satisfied: scipy in /Users/margaretsherlock/opt/anaconda3/envs/ucdpa_MargaretSherlock/lib/python3.10/site-packages (from xgboost) (1.10.1)\n",
      "Installing collected packages: xgboost\n",
      "Successfully installed xgboost-1.7.4\n"
     ]
    }
   ],
   "source": [
    "!pip install xgboost"
   ]
  },
  {
   "cell_type": "code",
   "execution_count": 38,
   "id": "14cca476-62ef-4375-95a5-8376af7586a3",
   "metadata": {},
   "outputs": [],
   "source": [
    "import xgboost as xg"
   ]
  },
  {
   "cell_type": "code",
   "execution_count": 39,
   "id": "64ab032c-7925-49fe-91e5-61125ed129dd",
   "metadata": {},
   "outputs": [
    {
     "name": "stdout",
     "output_type": "stream",
     "text": [
      "Collecting seaborn\n",
      "  Downloading seaborn-0.12.2-py3-none-any.whl (293 kB)\n",
      "\u001b[2K     \u001b[90m━━━━━━━━━━━━━━━━━━━━━━━━━━━━━━━━━━━━━━━\u001b[0m \u001b[32m293.3/293.3 kB\u001b[0m \u001b[31m1.8 MB/s\u001b[0m eta \u001b[36m0:00:00\u001b[0ma \u001b[36m0:00:01\u001b[0m\n",
      "\u001b[?25hRequirement already satisfied: matplotlib!=3.6.1,>=3.1 in /Users/margaretsherlock/opt/anaconda3/envs/ucdpa_MargaretSherlock/lib/python3.10/site-packages (from seaborn) (3.7.0)\n",
      "Requirement already satisfied: pandas>=0.25 in /Users/margaretsherlock/opt/anaconda3/envs/ucdpa_MargaretSherlock/lib/python3.10/site-packages (from seaborn) (1.5.3)\n",
      "Requirement already satisfied: numpy!=1.24.0,>=1.17 in /Users/margaretsherlock/opt/anaconda3/envs/ucdpa_MargaretSherlock/lib/python3.10/site-packages (from seaborn) (1.23.5)\n",
      "Requirement already satisfied: kiwisolver>=1.0.1 in /Users/margaretsherlock/opt/anaconda3/envs/ucdpa_MargaretSherlock/lib/python3.10/site-packages (from matplotlib!=3.6.1,>=3.1->seaborn) (1.4.4)\n",
      "Requirement already satisfied: python-dateutil>=2.7 in /Users/margaretsherlock/opt/anaconda3/envs/ucdpa_MargaretSherlock/lib/python3.10/site-packages (from matplotlib!=3.6.1,>=3.1->seaborn) (2.8.2)\n",
      "Requirement already satisfied: cycler>=0.10 in /Users/margaretsherlock/opt/anaconda3/envs/ucdpa_MargaretSherlock/lib/python3.10/site-packages (from matplotlib!=3.6.1,>=3.1->seaborn) (0.11.0)\n",
      "Requirement already satisfied: fonttools>=4.22.0 in /Users/margaretsherlock/opt/anaconda3/envs/ucdpa_MargaretSherlock/lib/python3.10/site-packages (from matplotlib!=3.6.1,>=3.1->seaborn) (4.25.0)\n",
      "Requirement already satisfied: pillow>=6.2.0 in /Users/margaretsherlock/opt/anaconda3/envs/ucdpa_MargaretSherlock/lib/python3.10/site-packages (from matplotlib!=3.6.1,>=3.1->seaborn) (9.4.0)\n",
      "Requirement already satisfied: contourpy>=1.0.1 in /Users/margaretsherlock/opt/anaconda3/envs/ucdpa_MargaretSherlock/lib/python3.10/site-packages (from matplotlib!=3.6.1,>=3.1->seaborn) (1.0.5)\n",
      "Requirement already satisfied: packaging>=20.0 in /Users/margaretsherlock/opt/anaconda3/envs/ucdpa_MargaretSherlock/lib/python3.10/site-packages (from matplotlib!=3.6.1,>=3.1->seaborn) (22.0)\n",
      "Requirement already satisfied: pyparsing>=2.3.1 in /Users/margaretsherlock/opt/anaconda3/envs/ucdpa_MargaretSherlock/lib/python3.10/site-packages (from matplotlib!=3.6.1,>=3.1->seaborn) (3.0.9)\n",
      "Requirement already satisfied: pytz>=2020.1 in /Users/margaretsherlock/opt/anaconda3/envs/ucdpa_MargaretSherlock/lib/python3.10/site-packages (from pandas>=0.25->seaborn) (2022.7)\n",
      "Requirement already satisfied: six>=1.5 in /Users/margaretsherlock/opt/anaconda3/envs/ucdpa_MargaretSherlock/lib/python3.10/site-packages (from python-dateutil>=2.7->matplotlib!=3.6.1,>=3.1->seaborn) (1.16.0)\n",
      "Installing collected packages: seaborn\n",
      "Successfully installed seaborn-0.12.2\n"
     ]
    }
   ],
   "source": [
    "!pip install seaborn"
   ]
  },
  {
   "cell_type": "code",
   "execution_count": 40,
   "id": "bffe1eaa-38ed-4e7f-ad70-6e5e09766125",
   "metadata": {},
   "outputs": [],
   "source": [
    "import seaborn as sb"
   ]
  },
  {
   "cell_type": "code",
   "execution_count": 68,
   "id": "a04a43c4-3f51-4836-899f-6c5cb7d4bbbb",
   "metadata": {},
   "outputs": [
    {
     "data": {
      "text/plain": [
       "<function matplotlib.style.core.use(style)>"
      ]
     },
     "execution_count": 68,
     "metadata": {},
     "output_type": "execute_result"
    }
   ],
   "source": [
    "plt.style.use"
   ]
  },
  {
   "cell_type": "code",
   "execution_count": 63,
   "id": "a6929228-163a-489e-b0cc-666951541a8d",
   "metadata": {},
   "outputs": [],
   "source": [
    "from sklearn.preprocessing import StandardScaler"
   ]
  },
  {
   "cell_type": "code",
   "execution_count": 49,
   "id": "0e070aff-b579-4d27-bd90-b3f6a65d90a7",
   "metadata": {},
   "outputs": [],
   "source": [
    "from matplotlib.ticker import StrMethodFormatter"
   ]
  },
  {
   "cell_type": "code",
   "execution_count": 80,
   "id": "de524eb8-5300-4b21-933e-b588c9e2f55f",
   "metadata": {},
   "outputs": [],
   "source": [
    "train_df = pd.read_csv('/Users/margaretsherlock/Documents/UCDPA Course Assignment/10 Years of Movie Awards.csv')\n",
    "test_df = pd.read_csv(\"/Users/margaretsherlock/Documents/UCDPA Course Assignment/10 Years of Movie Awards.csv\")"
   ]
  },
  {
   "cell_type": "code",
   "execution_count": 277,
   "id": "3227e727-af21-4749-8884-238beaf4dc11",
   "metadata": {},
   "outputs": [],
   "source": [
    "x_train = np.arange(10).reshape(-1, 1)\n",
    "y_train = np.array([0, 0, 0, 0, 1, 1, 1, 1, 1, 1])"
   ]
  },
  {
   "cell_type": "code",
   "execution_count": 278,
   "id": "1be201a7-9d71-494b-bdae-0788aa3d4805",
   "metadata": {},
   "outputs": [],
   "source": [
    "from sklearn.preprocessing import LabelBinarizer"
   ]
  },
  {
   "cell_type": "code",
   "execution_count": 67,
   "id": "4afa1844-be03-47c6-a57e-8e3f74c21c80",
   "metadata": {},
   "outputs": [],
   "source": [
    "from sklearn.preprocessing import MinMaxScaler"
   ]
  },
  {
   "cell_type": "code",
   "execution_count": 191,
   "id": "6fc22cdc-4e7b-46c2-bf4a-ed570de5b346",
   "metadata": {},
   "outputs": [],
   "source": [
    "train_numerical_features = list(train_df.select_dtypes(include=['int64', 'float64', 'int32']).columns)"
   ]
  },
  {
   "cell_type": "code",
   "execution_count": 85,
   "id": "2f15016d-d6fe-4d0a-967e-5d5aef163ecb",
   "metadata": {},
   "outputs": [],
   "source": [
    "ss_scaler = StandardScaler()"
   ]
  },
  {
   "cell_type": "code",
   "execution_count": 93,
   "id": "1d45f6a4-bce6-453d-91d7-3e81957cca7f",
   "metadata": {},
   "outputs": [],
   "source": [
    "train_df_ss_scaler = pd.DataFrame(data = train_df)"
   ]
  },
  {
   "cell_type": "code",
   "execution_count": 99,
   "id": "96790fd2-875f-445d-a792-3b357fcac840",
   "metadata": {},
   "outputs": [],
   "source": [
    "train_df_ss_scaler = ss_scaler.fit_transform"
   ]
  },
  {
   "cell_type": "code",
   "execution_count": 100,
   "id": "0e57e65b-e427-4724-aa12-8eb6d8801a5d",
   "metadata": {},
   "outputs": [
    {
     "data": {
      "text/html": [
       "<div>\n",
       "<style scoped>\n",
       "    .dataframe tbody tr th:only-of-type {\n",
       "        vertical-align: middle;\n",
       "    }\n",
       "\n",
       "    .dataframe tbody tr th {\n",
       "        vertical-align: top;\n",
       "    }\n",
       "\n",
       "    .dataframe thead th {\n",
       "        text-align: right;\n",
       "    }\n",
       "</style>\n",
       "<table border=\"1\" class=\"dataframe\">\n",
       "  <thead>\n",
       "    <tr style=\"text-align: right;\">\n",
       "      <th></th>\n",
       "      <th>Year</th>\n",
       "      <th>Name of Flim2</th>\n",
       "      <th>Rotten Tomatoes Rating</th>\n",
       "      <th>Award</th>\n",
       "      <th>Categories</th>\n",
       "      <th>Award Category</th>\n",
       "    </tr>\n",
       "  </thead>\n",
       "  <tbody>\n",
       "    <tr>\n",
       "      <th>0</th>\n",
       "      <td>2013</td>\n",
       "      <td>The Great Gatsby</td>\n",
       "      <td>48%</td>\n",
       "      <td>Acadamy Awards</td>\n",
       "      <td>Costume Design</td>\n",
       "      <td>Acadamy Awards -  Costume Design</td>\n",
       "    </tr>\n",
       "    <tr>\n",
       "      <th>1</th>\n",
       "      <td>2013</td>\n",
       "      <td>The Great Gatsby</td>\n",
       "      <td>48%</td>\n",
       "      <td>Acadamy Awards</td>\n",
       "      <td>Production Design</td>\n",
       "      <td>Acadamy Awards -  Production Design</td>\n",
       "    </tr>\n",
       "    <tr>\n",
       "      <th>2</th>\n",
       "      <td>2013</td>\n",
       "      <td>The Great Beauty.</td>\n",
       "      <td>91%</td>\n",
       "      <td>Acadamy Awards</td>\n",
       "      <td>Foreign Language Filme</td>\n",
       "      <td>Acadamy Awards -  Foreign Language Filme</td>\n",
       "    </tr>\n",
       "    <tr>\n",
       "      <th>3</th>\n",
       "      <td>2013</td>\n",
       "      <td>Her</td>\n",
       "      <td>94%</td>\n",
       "      <td>Acadamy Awards</td>\n",
       "      <td>Original Screenplay</td>\n",
       "      <td>Acadamy Awards -  Original Screenplay</td>\n",
       "    </tr>\n",
       "    <tr>\n",
       "      <th>4</th>\n",
       "      <td>2013</td>\n",
       "      <td>GRAVITY</td>\n",
       "      <td>96%</td>\n",
       "      <td>Acadamy Awards</td>\n",
       "      <td>Best Director</td>\n",
       "      <td>Acadamy Awards -  Best Director</td>\n",
       "    </tr>\n",
       "  </tbody>\n",
       "</table>\n",
       "</div>"
      ],
      "text/plain": [
       "   Year       Name of Flim2 Rotten Tomatoes Rating           Award  \\\n",
       "0  2013   The Great Gatsby                     48%  Acadamy Awards   \n",
       "1  2013   The Great Gatsby                     48%  Acadamy Awards   \n",
       "2  2013  The Great Beauty.                     91%  Acadamy Awards   \n",
       "3  2013               Her                      94%  Acadamy Awards   \n",
       "4  2013            GRAVITY                     96%  Acadamy Awards   \n",
       "\n",
       "                Categories                            Award Category  \n",
       "0           Costume Design          Acadamy Awards -  Costume Design  \n",
       "1        Production Design       Acadamy Awards -  Production Design  \n",
       "2   Foreign Language Filme  Acadamy Awards -  Foreign Language Filme  \n",
       "3      Original Screenplay     Acadamy Awards -  Original Screenplay  \n",
       "4            Best Director           Acadamy Awards -  Best Director  "
      ]
     },
     "execution_count": 100,
     "metadata": {},
     "output_type": "execute_result"
    }
   ],
   "source": [
    "spreadsheet.head ()"
   ]
  },
  {
   "cell_type": "code",
   "execution_count": 101,
   "id": "79a6992b-962c-4b58-89d5-61eb0144113a",
   "metadata": {},
   "outputs": [],
   "source": [
    "encode_col_list = list(train_df.select_dtypes(include=['object']).columns)"
   ]
  },
  {
   "cell_type": "code",
   "execution_count": 123,
   "id": "6123145e-26eb-42d4-9ea4-2b72521c4f31",
   "metadata": {},
   "outputs": [],
   "source": [
    "for i in encode_col_list:train_df_ss = pd.concat ([train_df_ss,pd.get_dummies(train_df_ss[i], prefix=i)], axis=1)\n",
    "train_df_ss.drop(i, axis = 1, inplace=True)"
   ]
  },
  {
   "cell_type": "code",
   "execution_count": 124,
   "id": "be913203-2230-4f18-8153-82ba1ce3c223",
   "metadata": {},
   "outputs": [
    {
     "data": {
      "text/html": [
       "<div>\n",
       "<style scoped>\n",
       "    .dataframe tbody tr th:only-of-type {\n",
       "        vertical-align: middle;\n",
       "    }\n",
       "\n",
       "    .dataframe tbody tr th {\n",
       "        vertical-align: top;\n",
       "    }\n",
       "\n",
       "    .dataframe thead th {\n",
       "        text-align: right;\n",
       "    }\n",
       "</style>\n",
       "<table border=\"1\" class=\"dataframe\">\n",
       "  <thead>\n",
       "    <tr style=\"text-align: right;\">\n",
       "      <th></th>\n",
       "      <th>Year</th>\n",
       "      <th>Name of Flim2</th>\n",
       "      <th>Rotten Tomatoes Rating</th>\n",
       "      <th>Award</th>\n",
       "      <th>Categories</th>\n",
       "      <th>Year_</th>\n",
       "      <th>Year_2013</th>\n",
       "      <th>Year_2014</th>\n",
       "      <th>Year_2015</th>\n",
       "      <th>Year_2016</th>\n",
       "      <th>...</th>\n",
       "      <th>Award Category_WGA -  Best Adapted Screenplay</th>\n",
       "      <th>Award Category_WGA -  Best Documentary</th>\n",
       "      <th>Award Category_WGA -  Best Original Screenplay</th>\n",
       "      <th>Award Category_WGA - Documentary Screenplay</th>\n",
       "      <th>Award Category_WGA - Original Screenplay</th>\n",
       "      <th>Award Category_WGA -  Best Adapted Screenplay</th>\n",
       "      <th>Award Category_WGA -  Best Original Screenplay</th>\n",
       "      <th>Award Category_WGA  -  Adapted Screenplay</th>\n",
       "      <th>Award Category_WGA  -  Documentary Screenplay</th>\n",
       "      <th>Award Category_WGA  -  Original Screenplay</th>\n",
       "    </tr>\n",
       "  </thead>\n",
       "  <tbody>\n",
       "    <tr>\n",
       "      <th>0</th>\n",
       "      <td>2013</td>\n",
       "      <td>The Great Gatsby</td>\n",
       "      <td>48%</td>\n",
       "      <td>Acadamy Awards</td>\n",
       "      <td>Costume Design</td>\n",
       "      <td>0</td>\n",
       "      <td>1</td>\n",
       "      <td>0</td>\n",
       "      <td>0</td>\n",
       "      <td>0</td>\n",
       "      <td>...</td>\n",
       "      <td>0</td>\n",
       "      <td>0</td>\n",
       "      <td>0</td>\n",
       "      <td>0</td>\n",
       "      <td>0</td>\n",
       "      <td>0</td>\n",
       "      <td>0</td>\n",
       "      <td>0</td>\n",
       "      <td>0</td>\n",
       "      <td>0</td>\n",
       "    </tr>\n",
       "    <tr>\n",
       "      <th>1</th>\n",
       "      <td>2013</td>\n",
       "      <td>The Great Gatsby</td>\n",
       "      <td>48%</td>\n",
       "      <td>Acadamy Awards</td>\n",
       "      <td>Production Design</td>\n",
       "      <td>0</td>\n",
       "      <td>1</td>\n",
       "      <td>0</td>\n",
       "      <td>0</td>\n",
       "      <td>0</td>\n",
       "      <td>...</td>\n",
       "      <td>0</td>\n",
       "      <td>0</td>\n",
       "      <td>0</td>\n",
       "      <td>0</td>\n",
       "      <td>0</td>\n",
       "      <td>0</td>\n",
       "      <td>0</td>\n",
       "      <td>0</td>\n",
       "      <td>0</td>\n",
       "      <td>0</td>\n",
       "    </tr>\n",
       "    <tr>\n",
       "      <th>2</th>\n",
       "      <td>2013</td>\n",
       "      <td>The Great Beauty.</td>\n",
       "      <td>91%</td>\n",
       "      <td>Acadamy Awards</td>\n",
       "      <td>Foreign Language Filme</td>\n",
       "      <td>0</td>\n",
       "      <td>1</td>\n",
       "      <td>0</td>\n",
       "      <td>0</td>\n",
       "      <td>0</td>\n",
       "      <td>...</td>\n",
       "      <td>0</td>\n",
       "      <td>0</td>\n",
       "      <td>0</td>\n",
       "      <td>0</td>\n",
       "      <td>0</td>\n",
       "      <td>0</td>\n",
       "      <td>0</td>\n",
       "      <td>0</td>\n",
       "      <td>0</td>\n",
       "      <td>0</td>\n",
       "    </tr>\n",
       "    <tr>\n",
       "      <th>3</th>\n",
       "      <td>2013</td>\n",
       "      <td>Her</td>\n",
       "      <td>94%</td>\n",
       "      <td>Acadamy Awards</td>\n",
       "      <td>Original Screenplay</td>\n",
       "      <td>0</td>\n",
       "      <td>1</td>\n",
       "      <td>0</td>\n",
       "      <td>0</td>\n",
       "      <td>0</td>\n",
       "      <td>...</td>\n",
       "      <td>0</td>\n",
       "      <td>0</td>\n",
       "      <td>0</td>\n",
       "      <td>0</td>\n",
       "      <td>0</td>\n",
       "      <td>0</td>\n",
       "      <td>0</td>\n",
       "      <td>0</td>\n",
       "      <td>0</td>\n",
       "      <td>0</td>\n",
       "    </tr>\n",
       "    <tr>\n",
       "      <th>4</th>\n",
       "      <td>2013</td>\n",
       "      <td>GRAVITY</td>\n",
       "      <td>96%</td>\n",
       "      <td>Acadamy Awards</td>\n",
       "      <td>Best Director</td>\n",
       "      <td>0</td>\n",
       "      <td>1</td>\n",
       "      <td>0</td>\n",
       "      <td>0</td>\n",
       "      <td>0</td>\n",
       "      <td>...</td>\n",
       "      <td>0</td>\n",
       "      <td>0</td>\n",
       "      <td>0</td>\n",
       "      <td>0</td>\n",
       "      <td>0</td>\n",
       "      <td>0</td>\n",
       "      <td>0</td>\n",
       "      <td>0</td>\n",
       "      <td>0</td>\n",
       "      <td>0</td>\n",
       "    </tr>\n",
       "  </tbody>\n",
       "</table>\n",
       "<p>5 rows × 22013 columns</p>\n",
       "</div>"
      ],
      "text/plain": [
       "   Year       Name of Flim2 Rotten Tomatoes Rating           Award  \\\n",
       "0  2013   The Great Gatsby                     48%  Acadamy Awards   \n",
       "1  2013   The Great Gatsby                     48%  Acadamy Awards   \n",
       "2  2013  The Great Beauty.                     91%  Acadamy Awards   \n",
       "3  2013               Her                      94%  Acadamy Awards   \n",
       "4  2013            GRAVITY                     96%  Acadamy Awards   \n",
       "\n",
       "                Categories  Year_   Year_2013  Year_2014  Year_2015  \\\n",
       "0           Costume Design       0          1          0          0   \n",
       "1        Production Design       0          1          0          0   \n",
       "2   Foreign Language Filme       0          1          0          0   \n",
       "3      Original Screenplay       0          1          0          0   \n",
       "4            Best Director       0          1          0          0   \n",
       "\n",
       "   Year_2016  ...  Award Category_WGA -  Best Adapted Screenplay  \\\n",
       "0          0  ...                                              0   \n",
       "1          0  ...                                              0   \n",
       "2          0  ...                                              0   \n",
       "3          0  ...                                              0   \n",
       "4          0  ...                                              0   \n",
       "\n",
       "   Award Category_WGA -  Best Documentary  \\\n",
       "0                                       0   \n",
       "1                                       0   \n",
       "2                                       0   \n",
       "3                                       0   \n",
       "4                                       0   \n",
       "\n",
       "   Award Category_WGA -  Best Original Screenplay  \\\n",
       "0                                               0   \n",
       "1                                               0   \n",
       "2                                               0   \n",
       "3                                               0   \n",
       "4                                               0   \n",
       "\n",
       "   Award Category_WGA - Documentary Screenplay  \\\n",
       "0                                            0   \n",
       "1                                            0   \n",
       "2                                            0   \n",
       "3                                            0   \n",
       "4                                            0   \n",
       "\n",
       "   Award Category_WGA - Original Screenplay  \\\n",
       "0                                         0   \n",
       "1                                         0   \n",
       "2                                         0   \n",
       "3                                         0   \n",
       "4                                         0   \n",
       "\n",
       "   Award Category_WGA -  Best Adapted Screenplay  \\\n",
       "0                                              0   \n",
       "1                                              0   \n",
       "2                                              0   \n",
       "3                                              0   \n",
       "4                                              0   \n",
       "\n",
       "   Award Category_WGA -  Best Original Screenplay  \\\n",
       "0                                               0   \n",
       "1                                               0   \n",
       "2                                               0   \n",
       "3                                               0   \n",
       "4                                               0   \n",
       "\n",
       "   Award Category_WGA  -  Adapted Screenplay  \\\n",
       "0                                          0   \n",
       "1                                          0   \n",
       "2                                          0   \n",
       "3                                          0   \n",
       "4                                          0   \n",
       "\n",
       "   Award Category_WGA  -  Documentary Screenplay  \\\n",
       "0                                              0   \n",
       "1                                              0   \n",
       "2                                              0   \n",
       "3                                              0   \n",
       "4                                              0   \n",
       "\n",
       "   Award Category_WGA  -  Original Screenplay  \n",
       "0                                           0  \n",
       "1                                           0  \n",
       "2                                           0  \n",
       "3                                           0  \n",
       "4                                           0  \n",
       "\n",
       "[5 rows x 22013 columns]"
      ]
     },
     "execution_count": 124,
     "metadata": {},
     "output_type": "execute_result"
    }
   ],
   "source": [
    "train_df_ss.head()"
   ]
  },
  {
   "cell_type": "code",
   "execution_count": 205,
   "id": "fe9e6ea8-4d6b-4661-af71-fc8c607a3d28",
   "metadata": {},
   "outputs": [],
   "source": []
  },
  {
   "cell_type": "code",
   "execution_count": 197,
   "id": "4cf483bd-f9ec-443b-aefc-1f0145dc23f5",
   "metadata": {},
   "outputs": [],
   "source": [
    "logreg = LogisticRegression()"
   ]
  },
  {
   "cell_type": "code",
   "execution_count": 134,
   "id": "00ea833b-37ba-45e8-bd7e-2c0f296146f4",
   "metadata": {},
   "outputs": [],
   "source": [
    "s =StandardScaler()"
   ]
  },
  {
   "cell_type": "code",
   "execution_count": 198,
   "id": "20be0ffe-e023-4bba-8322-53fda0031ff2",
   "metadata": {},
   "outputs": [],
   "source": [
    "def model(X_train, Y_train, X_test, Y_test, num_iterations = 2000,     \n",
    "          learning_rate = 0.5, print_cost = False):\n",
    "    X_train, Y_train, X_test, Y_test, classes = load_dataset()"
   ]
  },
  {
   "cell_type": "code",
   "execution_count": 275,
   "id": "215fb828-c34e-44da-a32b-e3b0249282b2",
   "metadata": {},
   "outputs": [
    {
     "data": {
      "text/html": [
       "<div>\n",
       "<style scoped>\n",
       "    .dataframe tbody tr th:only-of-type {\n",
       "        vertical-align: middle;\n",
       "    }\n",
       "\n",
       "    .dataframe tbody tr th {\n",
       "        vertical-align: top;\n",
       "    }\n",
       "\n",
       "    .dataframe thead th {\n",
       "        text-align: right;\n",
       "    }\n",
       "</style>\n",
       "<table border=\"1\" class=\"dataframe\">\n",
       "  <thead>\n",
       "    <tr style=\"text-align: right;\">\n",
       "      <th></th>\n",
       "      <th>Year</th>\n",
       "      <th>Name of Flim2</th>\n",
       "      <th>Rotten Tomatoes Rating</th>\n",
       "      <th>Award</th>\n",
       "      <th>Categories</th>\n",
       "      <th>Award Category</th>\n",
       "    </tr>\n",
       "  </thead>\n",
       "  <tbody>\n",
       "    <tr>\n",
       "      <th>0</th>\n",
       "      <td>2013</td>\n",
       "      <td>The Great Gatsby</td>\n",
       "      <td>48%</td>\n",
       "      <td>Acadamy Awards</td>\n",
       "      <td>Costume Design</td>\n",
       "      <td>Acadamy Awards -  Costume Design</td>\n",
       "    </tr>\n",
       "    <tr>\n",
       "      <th>1</th>\n",
       "      <td>2013</td>\n",
       "      <td>The Great Gatsby</td>\n",
       "      <td>48%</td>\n",
       "      <td>Acadamy Awards</td>\n",
       "      <td>Production Design</td>\n",
       "      <td>Acadamy Awards -  Production Design</td>\n",
       "    </tr>\n",
       "    <tr>\n",
       "      <th>2</th>\n",
       "      <td>2013</td>\n",
       "      <td>The Great Beauty.</td>\n",
       "      <td>91%</td>\n",
       "      <td>Acadamy Awards</td>\n",
       "      <td>Foreign Language Filme</td>\n",
       "      <td>Acadamy Awards -  Foreign Language Filme</td>\n",
       "    </tr>\n",
       "    <tr>\n",
       "      <th>3</th>\n",
       "      <td>2013</td>\n",
       "      <td>Her</td>\n",
       "      <td>94%</td>\n",
       "      <td>Acadamy Awards</td>\n",
       "      <td>Original Screenplay</td>\n",
       "      <td>Acadamy Awards -  Original Screenplay</td>\n",
       "    </tr>\n",
       "    <tr>\n",
       "      <th>4</th>\n",
       "      <td>2013</td>\n",
       "      <td>GRAVITY</td>\n",
       "      <td>96%</td>\n",
       "      <td>Acadamy Awards</td>\n",
       "      <td>Best Director</td>\n",
       "      <td>Acadamy Awards -  Best Director</td>\n",
       "    </tr>\n",
       "  </tbody>\n",
       "</table>\n",
       "</div>"
      ],
      "text/plain": [
       "   Year       Name of Flim2 Rotten Tomatoes Rating           Award  \\\n",
       "0  2013   The Great Gatsby                     48%  Acadamy Awards   \n",
       "1  2013   The Great Gatsby                     48%  Acadamy Awards   \n",
       "2  2013  The Great Beauty.                     91%  Acadamy Awards   \n",
       "3  2013               Her                      94%  Acadamy Awards   \n",
       "4  2013            GRAVITY                     96%  Acadamy Awards   \n",
       "\n",
       "                Categories                            Award Category  \n",
       "0           Costume Design          Acadamy Awards -  Costume Design  \n",
       "1        Production Design       Acadamy Awards -  Production Design  \n",
       "2   Foreign Language Filme  Acadamy Awards -  Foreign Language Filme  \n",
       "3      Original Screenplay     Acadamy Awards -  Original Screenplay  \n",
       "4            Best Director           Acadamy Awards -  Best Director  "
      ]
     },
     "execution_count": 275,
     "metadata": {},
     "output_type": "execute_result"
    }
   ],
   "source": [
    "spreadsheet.head ()"
   ]
  },
  {
   "cell_type": "code",
   "execution_count": 279,
   "id": "8fadb22a-305a-4516-bd5b-b042c50e47c9",
   "metadata": {},
   "outputs": [
    {
     "ename": "NameError",
     "evalue": "name 'X_test' is not defined",
     "output_type": "error",
     "traceback": [
      "\u001b[0;31m---------------------------------------------------------------------------\u001b[0m",
      "\u001b[0;31mNameError\u001b[0m                                 Traceback (most recent call last)",
      "Cell \u001b[0;32mIn[279], line 1\u001b[0m\n\u001b[0;32m----> 1\u001b[0m logreg_predictions \u001b[38;5;241m=\u001b[39m logreg\u001b[38;5;241m.\u001b[39mpredict(\u001b[43mX_test\u001b[49m)\n",
      "\u001b[0;31mNameError\u001b[0m: name 'X_test' is not defined"
     ]
    }
   ],
   "source": [
    "logreg_predictions = logreg.predict(X_test) "
   ]
  },
  {
   "cell_type": "code",
   "execution_count": 201,
   "id": "5f369e17-950f-4993-a995-cb152fb6164b",
   "metadata": {},
   "outputs": [],
   "source": [
    "logreg_data = pd.read_csv('/Users/margaretsherlock/Documents/UCDPA Course Assignment/10 Years of Movie Awards.csv')"
   ]
  },
  {
   "cell_type": "code",
   "execution_count": 1,
   "id": "d3d02764-f998-4668-9476-7ba36af7e26b",
   "metadata": {},
   "outputs": [
    {
     "ename": "SyntaxError",
     "evalue": "invalid syntax (3063020693.py, line 1)",
     "output_type": "error",
     "traceback": [
      "\u001b[0;36m  File \u001b[0;32m\"/var/folders/s2/b836lr_14rl4sgnxnhkm8cm00000gn/T/ipykernel_54337/3063020693.py\"\u001b[0;36m, line \u001b[0;32m1\u001b[0m\n\u001b[0;31m    logreg_data.insert((logreg_data.shape[1]), 'Name_of_Film2', logreg_predictions) logreg_data.to_csv('LogisticRegression_SS_OH-FE2.csv')\u001b[0m\n\u001b[0m                                                                                    ^\u001b[0m\n\u001b[0;31mSyntaxError\u001b[0m\u001b[0;31m:\u001b[0m invalid syntax\n"
     ]
    }
   ],
   "source": [
    "logreg_data.insert((logreg_data.shape[1]), 'Name_of_Film2', logreg_predictions) logreg_data.to_csv('LogisticRegression_SS_OH-FE2.csv')"
   ]
  },
  {
   "cell_type": "markdown",
   "id": "fce23ff5-0b7a-443e-a93a-27242b10108a",
   "metadata": {},
   "source": [
    "Adaptive Boosting"
   ]
  },
  {
   "cell_type": "code",
   "execution_count": 208,
   "id": "cda58443-f590-45f6-9368-ba50f8557207",
   "metadata": {},
   "outputs": [],
   "source": [
    "adaboost = AdaBoostClassifier()"
   ]
  },
  {
   "cell_type": "code",
   "execution_count": 209,
   "id": "53c1def7-8aba-441e-bdc0-5acc7e00cb71",
   "metadata": {},
   "outputs": [
    {
     "ename": "NameError",
     "evalue": "name 'y_train' is not defined",
     "output_type": "error",
     "traceback": [
      "\u001b[0;31m---------------------------------------------------------------------------\u001b[0m",
      "\u001b[0;31mNameError\u001b[0m                                 Traceback (most recent call last)",
      "Cell \u001b[0;32mIn[209], line 1\u001b[0m\n\u001b[0;32m----> 1\u001b[0m adaboost\u001b[38;5;241m.\u001b[39mfit(X_train, \u001b[43my_train\u001b[49m)\n",
      "\u001b[0;31mNameError\u001b[0m: name 'y_train' is not defined"
     ]
    }
   ],
   "source": [
    "adaboost.fit(X_train, y_train)"
   ]
  },
  {
   "cell_type": "code",
   "execution_count": 211,
   "id": "69d1fcfe-060a-4ec6-afa8-cad3a8cbe277",
   "metadata": {},
   "outputs": [
    {
     "ename": "NameError",
     "evalue": "name 'X_test' is not defined",
     "output_type": "error",
     "traceback": [
      "\u001b[0;31m---------------------------------------------------------------------------\u001b[0m",
      "\u001b[0;31mNameError\u001b[0m                                 Traceback (most recent call last)",
      "Cell \u001b[0;32mIn[211], line 1\u001b[0m\n\u001b[0;32m----> 1\u001b[0m adaboost_predictions \u001b[38;5;241m=\u001b[39m adaboost\u001b[38;5;241m.\u001b[39mpredict(\u001b[43mX_test\u001b[49m)\n",
      "\u001b[0;31mNameError\u001b[0m: name 'X_test' is not defined"
     ]
    }
   ],
   "source": [
    "adaboost_predictions = adaboost.predict(X_test)"
   ]
  },
  {
   "cell_type": "code",
   "execution_count": 213,
   "id": "b9e17b4b-a358-42d0-80df-23f01ddfb69e",
   "metadata": {},
   "outputs": [],
   "source": [
    "adaboost_data = pd.read_csv('/Users/margaretsherlock/Documents/UCDPA Course Assignment/10 Years of Movie Awards.csv')"
   ]
  },
  {
   "cell_type": "code",
   "execution_count": 2,
   "id": "e4f5228d-0727-4c59-8c8c-18c74517c677",
   "metadata": {},
   "outputs": [
    {
     "ename": "NameError",
     "evalue": "name 'adaboost_data' is not defined",
     "output_type": "error",
     "traceback": [
      "\u001b[0;31m---------------------------------------------------------------------------\u001b[0m",
      "\u001b[0;31mNameError\u001b[0m                                 Traceback (most recent call last)",
      "\u001b[0;32m/var/folders/s2/b836lr_14rl4sgnxnhkm8cm00000gn/T/ipykernel_54337/1928792069.py\u001b[0m in \u001b[0;36m<module>\u001b[0;34m\u001b[0m\n\u001b[0;32m----> 1\u001b[0;31m \u001b[0madaboost_data\u001b[0m\u001b[0;34m.\u001b[0m\u001b[0minsert\u001b[0m\u001b[0;34m(\u001b[0m\u001b[0;34m(\u001b[0m\u001b[0madaboost_data\u001b[0m\u001b[0;34m.\u001b[0m\u001b[0mshape\u001b[0m\u001b[0;34m[\u001b[0m\u001b[0;36m1\u001b[0m\u001b[0;34m]\u001b[0m\u001b[0;34m)\u001b[0m\u001b[0;34m,\u001b[0m\u001b[0;34m'Name_of_Film2'\u001b[0m\u001b[0;34m,\u001b[0m\u001b[0madaboost_predictions\u001b[0m\u001b[0;34m)\u001b[0m\u001b[0;34m\u001b[0m\u001b[0;34m\u001b[0m\u001b[0m\n\u001b[0m",
      "\u001b[0;31mNameError\u001b[0m: name 'adaboost_data' is not defined"
     ]
    }
   ],
   "source": [
    "adaboost_data.insert((adaboost_data.shape[1]),'Name_of_Film2',adaboost_predictions)"
   ]
  },
  {
   "cell_type": "code",
   "execution_count": 216,
   "id": "bb388787-cf0e-430c-99ec-e4d259403547",
   "metadata": {},
   "outputs": [],
   "source": [
    "adaboost_data.to_csv('AdaptiveBoosting_SS_OH_FE.csv')"
   ]
  },
  {
   "cell_type": "markdown",
   "id": "7b2ccab8-5ebd-4322-8fab-a745a193ecb2",
   "metadata": {},
   "source": [
    "Random Forest"
   ]
  },
  {
   "cell_type": "code",
   "execution_count": 217,
   "id": "9772921d-7fa8-45af-9987-af9c9c3ebaa7",
   "metadata": {},
   "outputs": [],
   "source": [
    "random_forest = RandomForestClassifier(n_estimators=100)"
   ]
  },
  {
   "cell_type": "raw",
   "id": "ad2f103f-e155-4ac7-8d8c-0807dc480bc5",
   "metadata": {},
   "source": [
    "random_forest.fit(X_train, y_train)"
   ]
  },
  {
   "cell_type": "code",
   "execution_count": 228,
   "id": "413ba2bc-1420-434d-87c9-a1e452e20662",
   "metadata": {},
   "outputs": [
    {
     "ename": "NameError",
     "evalue": "name 'X_test' is not defined",
     "output_type": "error",
     "traceback": [
      "\u001b[0;31m---------------------------------------------------------------------------\u001b[0m",
      "\u001b[0;31mNameError\u001b[0m                                 Traceback (most recent call last)",
      "Cell \u001b[0;32mIn[228], line 1\u001b[0m\n\u001b[0;32m----> 1\u001b[0m Random_forest_predictions \u001b[38;5;241m=\u001b[39m random_forest\u001b[38;5;241m.\u001b[39mpredict(\u001b[43mX_test\u001b[49m)\n",
      "\u001b[0;31mNameError\u001b[0m: name 'X_test' is not defined"
     ]
    }
   ],
   "source": [
    "Random_forest_predictions = random_forest.predict(X_test)"
   ]
  },
  {
   "cell_type": "code",
   "execution_count": 225,
   "id": "49d1fea8-c8e8-4186-8c29-dd80c1dd83b3",
   "metadata": {},
   "outputs": [
    {
     "ename": "SyntaxError",
     "evalue": "invalid syntax (3061022356.py, line 1)",
     "output_type": "error",
     "traceback": [
      "\u001b[0;36m  Cell \u001b[0;32mIn[225], line 1\u001b[0;36m\u001b[0m\n\u001b[0;31m    rf_data = pd.read_csv('/Users/margaretsherlock/Documents/UCDPA Course Assignment/10 Years of Movie Awards.csv')rf_data.insert((rf_data.shape[1]), 'survived', random_forest_predictions) rf_data.to_csv('RandomForest_SS_OH.csv'\u001b[0m\n\u001b[0m                                                                                                                   ^\u001b[0m\n\u001b[0;31mSyntaxError\u001b[0m\u001b[0;31m:\u001b[0m invalid syntax\n"
     ]
    }
   ],
   "source": [
    "rf_data = pd.read_csv('/Users/margaretsherlock/Documents/UCDPA Course Assignment/10 Years of Movie Awards.csv')rf_data.insert((rf_data.shape[1]), 'survived', random_forest_predictions) rf_data.to_csv('RandomForest_SS_OH.csv'"
   ]
  },
  {
   "cell_type": "markdown",
   "id": "e07af167-be7a-414e-abdc-c3b19aa8284e",
   "metadata": {},
   "source": [
    "XG Boost"
   ]
  },
  {
   "cell_type": "code",
   "execution_count": 229,
   "id": "951b1c8f-5fa0-4041-9c99-9ea6f9814efb",
   "metadata": {},
   "outputs": [
    {
     "ename": "NameError",
     "evalue": "name 'XGBClassifier' is not defined",
     "output_type": "error",
     "traceback": [
      "\u001b[0;31m---------------------------------------------------------------------------\u001b[0m",
      "\u001b[0;31mNameError\u001b[0m                                 Traceback (most recent call last)",
      "Cell \u001b[0;32mIn[229], line 1\u001b[0m\n\u001b[0;32m----> 1\u001b[0m xg \u001b[38;5;241m=\u001b[39m \u001b[43mXGBClassifier\u001b[49m()\n",
      "\u001b[0;31mNameError\u001b[0m: name 'XGBClassifier' is not defined"
     ]
    }
   ],
   "source": []
  },
  {
   "cell_type": "code",
   "execution_count": 231,
   "id": "e9a15323-c950-49fb-9fc5-043ae220b002",
   "metadata": {},
   "outputs": [
    {
     "name": "stdout",
     "output_type": "stream",
     "text": [
      "Collecting package metadata (current_repodata.json): done\n",
      "Solving environment: done\n",
      "\n",
      "## Package Plan ##\n",
      "\n",
      "  environment location: /Users/margaretsherlock/opt/anaconda3/envs/ucdpa_MargaretSherlock\n",
      "\n",
      "  added / updated specs:\n",
      "    - py-xgboost\n",
      "\n",
      "\n",
      "The following packages will be downloaded:\n",
      "\n",
      "    package                    |            build\n",
      "    ---------------------------|-----------------\n",
      "    _py-xgboost-mutex-2.0      |            cpu_0           8 KB  anaconda\n",
      "    ca-certificates-2022.4.26  |       hecd8cb5_0         132 KB  anaconda\n",
      "    certifi-2022.6.15          |  py310hecd8cb5_0         157 KB  anaconda\n",
      "    joblib-1.1.0               |     pyhd3eb1b0_0         211 KB  anaconda\n",
      "    libgfortran-3.0.1          |       h93005f0_2         495 KB  anaconda\n",
      "    libxgboost-1.5.0           |       he9d5cce_1         2.2 MB  anaconda\n",
      "    llvm-openmp-12.0.0         |       h0dcd299_1         300 KB  anaconda\n",
      "    py-xgboost-1.5.0           |  py310hecd8cb5_1         155 KB  anaconda\n",
      "    scikit-learn-1.0.2         |  py310hc081a56_0         7.4 MB  anaconda\n",
      "    scipy-1.7.3                |  py310h3dd3380_0        21.0 MB  anaconda\n",
      "    threadpoolctl-2.2.0        |     pyh0d69192_0          16 KB  anaconda\n",
      "    ------------------------------------------------------------\n",
      "                                           Total:        32.1 MB\n",
      "\n",
      "The following NEW packages will be INSTALLED:\n",
      "\n",
      "  _py-xgboost-mutex  anaconda/osx-64::_py-xgboost-mutex-2.0-cpu_0 \n",
      "  joblib             anaconda/noarch::joblib-1.1.0-pyhd3eb1b0_0 \n",
      "  libgfortran        anaconda/osx-64::libgfortran-3.0.1-h93005f0_2 \n",
      "  libxgboost         anaconda/osx-64::libxgboost-1.5.0-he9d5cce_1 \n",
      "  llvm-openmp        anaconda/osx-64::llvm-openmp-12.0.0-h0dcd299_1 \n",
      "  py-xgboost         anaconda/osx-64::py-xgboost-1.5.0-py310hecd8cb5_1 \n",
      "  scikit-learn       anaconda/osx-64::scikit-learn-1.0.2-py310hc081a56_0 \n",
      "  scipy              anaconda/osx-64::scipy-1.7.3-py310h3dd3380_0 \n",
      "  threadpoolctl      anaconda/noarch::threadpoolctl-2.2.0-pyh0d69192_0 \n",
      "\n",
      "The following packages will be SUPERSEDED by a higher-priority channel:\n",
      "\n",
      "  ca-certificates    pkgs/main::ca-certificates-2023.01.10~ --> anaconda::ca-certificates-2022.4.26-hecd8cb5_0 \n",
      "  certifi            pkgs/main::certifi-2022.12.7-py310hec~ --> anaconda::certifi-2022.6.15-py310hecd8cb5_0 \n",
      "\n",
      "\n",
      "\n",
      "Downloading and Extracting Packages\n",
      "_py-xgboost-mutex-2. | 8 KB      |                                       |   0% \n",
      "scipy-1.7.3          | 21.0 MB   |                                       |   0% \u001b[A\n",
      "\n",
      "py-xgboost-1.5.0     | 155 KB    |                                       |   0% \u001b[A\u001b[A\n",
      "\n",
      "\n",
      "joblib-1.1.0         | 211 KB    |                                       |   0% \u001b[A\u001b[A\u001b[A\n",
      "\n",
      "\n",
      "\n",
      "ca-certificates-2022 | 132 KB    |                                       |   0% \u001b[A\u001b[A\u001b[A\u001b[A\n",
      "\n",
      "\n",
      "\n",
      "\n",
      "llvm-openmp-12.0.0   | 300 KB    |                                       |   0% \u001b[A\u001b[A\u001b[A\u001b[A\u001b[A\n",
      "\n",
      "\n",
      "\n",
      "\n",
      "\n",
      "certifi-2022.6.15    | 157 KB    |                                       |   0% \u001b[A\u001b[A\u001b[A\u001b[A\u001b[A\u001b[A\n",
      "\n",
      "\n",
      "\n",
      "\n",
      "\n",
      "\n",
      "scikit-learn-1.0.2   | 7.4 MB    |                                       |   0% \u001b[A\u001b[A\u001b[A\u001b[A\u001b[A\u001b[A\u001b[A\n",
      "\n",
      "\n",
      "\n",
      "\n",
      "\n",
      "\n",
      "\n",
      "libgfortran-3.0.1    | 495 KB    |                                       |   0% \u001b[A\u001b[A\u001b[A\u001b[A\u001b[A\u001b[A\u001b[A\u001b[A\n",
      "\n",
      "\n",
      "\n",
      "\n",
      "\n",
      "\n",
      "\n",
      "\n",
      "libxgboost-1.5.0     | 2.2 MB    |                                       |   0% \u001b[A\u001b[A\u001b[A\u001b[A\u001b[A\u001b[A\u001b[A\u001b[A\u001b[A\n",
      "\n",
      "\n",
      "\n",
      "\n",
      "\n",
      "\n",
      "\n",
      "\n",
      "\n",
      "_py-xgboost-mutex-2. | 8 KB      | ##################################### | 100% \u001b[A\u001b[A\u001b[A\u001b[A\u001b[A\u001b[A\u001b[A\u001b[A\u001b[A\u001b[A\n",
      "\n",
      "\n",
      "joblib-1.1.0         | 211 KB    | ###########2                          |  30% \u001b[A\u001b[A\u001b[A\n",
      "\n",
      "\n",
      "\n",
      "ca-certificates-2022 | 132 KB    | ##################################### | 100% \u001b[A\u001b[A\u001b[A\u001b[A\n",
      "\n",
      "\n",
      "\n",
      "ca-certificates-2022 | 132 KB    | ##################################### | 100% \u001b[A\u001b[A\u001b[A\u001b[A\n",
      "\n",
      "\n",
      "\n",
      "\n",
      "\n",
      "certifi-2022.6.15    | 157 KB    | ###7                                  |  10% \u001b[A\u001b[A\u001b[A\u001b[A\u001b[A\u001b[A\n",
      "\n",
      "\n",
      "\n",
      "\n",
      "\n",
      "certifi-2022.6.15    | 157 KB    | ##################################### | 100% \u001b[A\u001b[A\u001b[A\u001b[A\u001b[A\u001b[A\n",
      "\n",
      "\n",
      "\n",
      "\n",
      "\n",
      "\n",
      "\n",
      "libgfortran-3.0.1    | 495 KB    | #1                                    |   3% \u001b[A\u001b[A\u001b[A\u001b[A\u001b[A\u001b[A\u001b[A\u001b[A\n",
      "scipy-1.7.3          | 21.0 MB   |                                       |   0% \u001b[A\n",
      "\n",
      "\n",
      "\n",
      "\n",
      "llvm-openmp-12.0.0   | 300 KB    | #9                                    |   5% \u001b[A\u001b[A\u001b[A\u001b[A\u001b[A\n",
      "\n",
      "\n",
      "\n",
      "\n",
      "\n",
      "\n",
      "\n",
      "\n",
      "libxgboost-1.5.0     | 2.2 MB    | 2                                     |   1% \u001b[A\u001b[A\u001b[A\u001b[A\u001b[A\u001b[A\u001b[A\u001b[A\u001b[A\n",
      "\n",
      "\n",
      "\n",
      "\n",
      "\n",
      "\n",
      "\n",
      "\n",
      "\n",
      "threadpoolctl-2.2.0  | 16 KB     | ##################################### | 100% \u001b[A\u001b[A\u001b[A\u001b[A\u001b[A\u001b[A\u001b[A\u001b[A\u001b[A\u001b[A\n",
      "scipy-1.7.3          | 21.0 MB   | 7                                     |   2% \u001b[A\n",
      "\n",
      "py-xgboost-1.5.0     | 155 KB    | ###8                                  |  10% \u001b[A\u001b[A\n",
      "\n",
      "\n",
      "\n",
      "\n",
      "\n",
      "\n",
      "\n",
      "libgfortran-3.0.1    | 495 KB    | ##################################### | 100% \u001b[A\u001b[A\u001b[A\u001b[A\u001b[A\u001b[A\u001b[A\u001b[A\n",
      "\n",
      "\n",
      "\n",
      "\n",
      "llvm-openmp-12.0.0   | 300 KB    | ##################################### | 100% \u001b[A\u001b[A\u001b[A\u001b[A\u001b[A\n",
      "\n",
      "\n",
      "\n",
      "\n",
      "llvm-openmp-12.0.0   | 300 KB    | ##################################### | 100% \u001b[A\u001b[A\u001b[A\u001b[A\u001b[A\n",
      "\n",
      "\n",
      "\n",
      "\n",
      "\n",
      "\n",
      "\n",
      "libgfortran-3.0.1    | 495 KB    | ##################################### | 100% \u001b[A\u001b[A\u001b[A\u001b[A\u001b[A\u001b[A\u001b[A\u001b[A\n",
      "\n",
      "\n",
      "\n",
      "\n",
      "\n",
      "\n",
      "scikit-learn-1.0.2   | 7.4 MB    |                                       |   0% \u001b[A\u001b[A\u001b[A\u001b[A\u001b[A\u001b[A\u001b[A\n",
      "scipy-1.7.3          | 21.0 MB   | ##1                                   |   6% \u001b[A\n",
      "\n",
      "\n",
      "\n",
      "\n",
      "\n",
      "\n",
      "\n",
      "\n",
      "\n",
      "threadpoolctl-2.2.0  | 16 KB     | ##################################### | 100% \u001b[A\u001b[A\u001b[A\u001b[A\u001b[A\u001b[A\u001b[A\u001b[A\u001b[A\u001b[A\n",
      "\n",
      "\n",
      "\n",
      "\n",
      "\n",
      "\n",
      "scikit-learn-1.0.2   | 7.4 MB    | 4                                     |   1% \u001b[A\u001b[A\u001b[A\u001b[A\u001b[A\u001b[A\u001b[A\n",
      "\n",
      "\n",
      "joblib-1.1.0         | 211 KB    | ##################################### | 100% \u001b[A\u001b[A\u001b[A\n",
      "\n",
      "\n",
      "joblib-1.1.0         | 211 KB    | ##################################### | 100% \u001b[A\u001b[A\u001b[A\n",
      "scipy-1.7.3          | 21.0 MB   | #####3                                |  15% \u001b[A\n",
      "\n",
      "py-xgboost-1.5.0     | 155 KB    | ##################################### | 100% \u001b[A\u001b[A\n",
      "\n",
      "py-xgboost-1.5.0     | 155 KB    | ##################################### | 100% \u001b[A\u001b[A\n",
      "\n",
      "\n",
      "\n",
      "\n",
      "\n",
      "\n",
      "scikit-learn-1.0.2   | 7.4 MB    | #5                                    |   4% \u001b[A\u001b[A\u001b[A\u001b[A\u001b[A\u001b[A\u001b[A\n",
      "scipy-1.7.3          | 21.0 MB   | ###########                           |  30% \u001b[A\n",
      "\n",
      "\n",
      "\n",
      "\n",
      "\n",
      "\n",
      "scikit-learn-1.0.2   | 7.4 MB    | ###8                                  |  11% \u001b[A\u001b[A\u001b[A\u001b[A\u001b[A\u001b[A\u001b[A\n",
      "scipy-1.7.3          | 21.0 MB   | ######################                |  60% \u001b[A\n",
      "\n",
      "\n",
      "\n",
      "\n",
      "\n",
      "\n",
      "scikit-learn-1.0.2   | 7.4 MB    | #######5                              |  20% \u001b[A\u001b[A\u001b[A\u001b[A\u001b[A\u001b[A\u001b[A\n",
      "scipy-1.7.3          | 21.0 MB   | #############################6        |  80% \u001b[A\n",
      "\n",
      "\n",
      "\n",
      "\n",
      "\n",
      "\n",
      "\n",
      "\n",
      "libxgboost-1.5.0     | 2.2 MB    | ##################################### | 100% \u001b[A\u001b[A\u001b[A\u001b[A\u001b[A\u001b[A\u001b[A\u001b[A\u001b[A\n",
      "\n",
      "\n",
      "\n",
      "\n",
      "\n",
      "\n",
      "\n",
      "\n",
      "libxgboost-1.5.0     | 2.2 MB    | ##################################### | 100% \u001b[A\u001b[A\u001b[A\u001b[A\u001b[A\u001b[A\u001b[A\u001b[A\u001b[A\n",
      "\n",
      "\n",
      "\n",
      "\n",
      "\n",
      "\n",
      "scikit-learn-1.0.2   | 7.4 MB    | ##################                    |  49% \u001b[A\u001b[A\u001b[A\u001b[A\u001b[A\u001b[A\u001b[A\n",
      "\n",
      "\n",
      "\n",
      "\n",
      "\n",
      "\n",
      "scikit-learn-1.0.2   | 7.4 MB    | ##################################### | 100% \u001b[A\u001b[A\u001b[A\u001b[A\u001b[A\u001b[A\u001b[A\n",
      "\n",
      "\n",
      "\n",
      "\n",
      "\n",
      "\n",
      "scikit-learn-1.0.2   | 7.4 MB    | ##################################### | 100% \u001b[A\u001b[A\u001b[A\u001b[A\u001b[A\u001b[A\u001b[A\n",
      "scipy-1.7.3          | 21.0 MB   | ##################################### | 100% \u001b[A\n",
      "                                                                                \u001b[A\n",
      "                                                                                \u001b[A\n",
      "\n",
      "                                                                                \u001b[A\u001b[A\n",
      "\n",
      "\n",
      "                                                                                \u001b[A\u001b[A\u001b[A\n",
      "\n",
      "\n",
      "\n",
      "                                                                                \u001b[A\u001b[A\u001b[A\u001b[A\n",
      "\n",
      "\n",
      "\n",
      "\n",
      "                                                                                \u001b[A\u001b[A\u001b[A\u001b[A\u001b[A\n",
      "\n",
      "\n",
      "\n",
      "\n",
      "\n",
      "                                                                                \u001b[A\u001b[A\u001b[A\u001b[A\u001b[A\u001b[A\n",
      "\n",
      "\n",
      "\n",
      "\n",
      "\n",
      "\n",
      "                                                                                \u001b[A\u001b[A\u001b[A\u001b[A\u001b[A\u001b[A\u001b[A\n",
      "\n",
      "\n",
      "\n",
      "\n",
      "\n",
      "\n",
      "\n",
      "                                                                                \u001b[A\u001b[A\u001b[A\u001b[A\u001b[A\u001b[A\u001b[A\u001b[A\n",
      "\n",
      "\n",
      "\n",
      "\n",
      "\n",
      "\n",
      "\n",
      "\n",
      "                                                                                \u001b[A\u001b[A\u001b[A\u001b[A\u001b[A\u001b[A\u001b[A\u001b[A\u001b[A\n",
      "\n",
      "\n",
      "\n",
      "\n",
      "\n",
      "\n",
      "\n",
      "\n",
      "\n",
      "                                                                                \u001b[A\u001b[A\u001b[A\u001b[A\u001b[A\u001b[A\u001b[A\u001b[A\u001b[A\u001b[A\n",
      "Preparing transaction: done\n",
      "Verifying transaction: done\n",
      "Executing transaction: / \n",
      "\n",
      "    Installed package of scikit-learn can be accelerated using scikit-learn-intelex.\n",
      "    More details are available here: https://intel.github.io/scikit-learn-intelex\n",
      "\n",
      "    For example:\n",
      "\n",
      "        $ conda install scikit-learn-intelex\n",
      "        $ python -m sklearnex my_application.py\n",
      "\n",
      "    \n",
      "\n",
      "done\n",
      "\n",
      "Note: you may need to restart the kernel to use updated packages.\n"
     ]
    }
   ],
   "source": [
    "conda install -c anaconda py-xgboost"
   ]
  },
  {
   "cell_type": "code",
   "execution_count": 233,
   "id": "1360bae7-b98e-4074-bafa-042d3938b9ce",
   "metadata": {},
   "outputs": [
    {
     "ename": "NameError",
     "evalue": "name 'XGBClassifier' is not defined",
     "output_type": "error",
     "traceback": [
      "\u001b[0;31m---------------------------------------------------------------------------\u001b[0m",
      "\u001b[0;31mNameError\u001b[0m                                 Traceback (most recent call last)",
      "Cell \u001b[0;32mIn[233], line 1\u001b[0m\n\u001b[0;32m----> 1\u001b[0m xg \u001b[38;5;241m=\u001b[39m \u001b[43mXGBClassifier\u001b[49m()\n",
      "\u001b[0;31mNameError\u001b[0m: name 'XGBClassifier' is not defined"
     ]
    }
   ],
   "source": [
    "xg = XGBClassifier()"
   ]
  },
  {
   "cell_type": "code",
   "execution_count": 234,
   "id": "7d38229c-062a-48d9-8530-edf1775c2062",
   "metadata": {},
   "outputs": [
    {
     "name": "stdout",
     "output_type": "stream",
     "text": [
      "\u001b[31mERROR: Could not find a version that satisfies the requirement XGBClassifier (from versions: none)\u001b[0m\u001b[31m\n",
      "\u001b[0m\u001b[31mERROR: No matching distribution found for XGBClassifier\u001b[0m\u001b[31m\n",
      "\u001b[0m"
     ]
    }
   ],
   "source": [
    "!pip install 'XGBClassifier'"
   ]
  },
  {
   "cell_type": "code",
   "execution_count": 235,
   "id": "f3ec4fe1-7249-44ff-a11f-fcdd2fdcf518",
   "metadata": {},
   "outputs": [
    {
     "name": "stdout",
     "output_type": "stream",
     "text": [
      "Collecting package metadata (current_repodata.json): done\n",
      "Solving environment: done\n",
      "\n",
      "## Package Plan ##\n",
      "\n",
      "  environment location: /Users/margaretsherlock/opt/anaconda3/envs/ucdpa_MargaretSherlock\n",
      "\n",
      "  added / updated specs:\n",
      "    - xgboost\n",
      "\n",
      "\n",
      "The following packages will be downloaded:\n",
      "\n",
      "    package                    |            build\n",
      "    ---------------------------|-----------------\n",
      "    ca-certificates-2022.12.7  |       h033912b_0         142 KB  conda-forge\n",
      "    certifi-2022.12.7          |     pyhd8ed1ab_0         147 KB  conda-forge\n",
      "    libxgboost-1.7.1           |   cpu_h0c1cf5f_0         2.7 MB  conda-forge\n",
      "    llvm-openmp-15.0.7         |       h61d9ccf_0         287 KB  conda-forge\n",
      "    openssl-1.1.1t             |       hfd90126_0         1.7 MB  conda-forge\n",
      "    py-xgboost-1.7.1           |cpu_py310h22f808f_0         201 KB  conda-forge\n",
      "    python_abi-3.10            |          2_cp310           4 KB  conda-forge\n",
      "    xgboost-1.7.1              |cpu_py310h5f2e7b3_0          13 KB  conda-forge\n",
      "    ------------------------------------------------------------\n",
      "                                           Total:         5.1 MB\n",
      "\n",
      "The following NEW packages will be INSTALLED:\n",
      "\n",
      "  python_abi         conda-forge/osx-64::python_abi-3.10-2_cp310 \n",
      "  xgboost            conda-forge/osx-64::xgboost-1.7.1-cpu_py310h5f2e7b3_0 \n",
      "\n",
      "The following packages will be UPDATED:\n",
      "\n",
      "  ca-certificates    anaconda::ca-certificates-2022.4.26-h~ --> conda-forge::ca-certificates-2022.12.7-h033912b_0 \n",
      "  certifi            anaconda/osx-64::certifi-2022.6.15-py~ --> conda-forge/noarch::certifi-2022.12.7-pyhd8ed1ab_0 \n",
      "  libxgboost          anaconda::libxgboost-1.5.0-he9d5cce_1 --> conda-forge::libxgboost-1.7.1-cpu_h0c1cf5f_0 \n",
      "  llvm-openmp        anaconda::llvm-openmp-12.0.0-h0dcd299~ --> conda-forge::llvm-openmp-15.0.7-h61d9ccf_0 \n",
      "  py-xgboost         anaconda::py-xgboost-1.5.0-py310hecd8~ --> conda-forge::py-xgboost-1.7.1-cpu_py310h22f808f_0 \n",
      "\n",
      "The following packages will be SUPERSEDED by a higher-priority channel:\n",
      "\n",
      "  openssl              pkgs/main::openssl-1.1.1t-hca72f7f_0 --> conda-forge::openssl-1.1.1t-hfd90126_0 \n",
      "\n",
      "\n",
      "\n",
      "Downloading and Extracting Packages\n",
      "xgboost-1.7.1        | 13 KB     |                                       |   0% \n",
      "ca-certificates-2022 | 142 KB    |                                       |   0% \u001b[A\n",
      "\n",
      "py-xgboost-1.7.1     | 201 KB    |                                       |   0% \u001b[A\u001b[A\n",
      "\n",
      "\n",
      "llvm-openmp-15.0.7   | 287 KB    |                                       |   0% \u001b[A\u001b[A\u001b[A\n",
      "\n",
      "\n",
      "\n",
      "openssl-1.1.1t       | 1.7 MB    |                                       |   0% \u001b[A\u001b[A\u001b[A\u001b[A\n",
      "\n",
      "\n",
      "\n",
      "\n",
      "libxgboost-1.7.1     | 2.7 MB    |                                       |   0% \u001b[A\u001b[A\u001b[A\u001b[A\u001b[A\n",
      "\n",
      "\n",
      "\n",
      "\n",
      "\n",
      "certifi-2022.12.7    | 147 KB    |                                       |   0% \u001b[A\u001b[A\u001b[A\u001b[A\u001b[A\u001b[A\n",
      "\n",
      "\n",
      "\n",
      "\n",
      "\n",
      "\n",
      "python_abi-3.10      | 4 KB      |                                       |   0% \u001b[A\u001b[A\u001b[A\u001b[A\u001b[A\u001b[A\u001b[A\n",
      "\n",
      "\n",
      "llvm-openmp-15.0.7   | 287 KB    | ##                                    |   6% \u001b[A\u001b[A\u001b[A\n",
      "ca-certificates-2022 | 142 KB    | ####1                                 |  11% \u001b[A\n",
      "\n",
      "\n",
      "\n",
      "openssl-1.1.1t       | 1.7 MB    | 3                                     |   1% \u001b[A\u001b[A\u001b[A\u001b[A\n",
      "ca-certificates-2022 | 142 KB    | ##################################### | 100% \u001b[A\n",
      "\n",
      "\n",
      "llvm-openmp-15.0.7   | 287 KB    | ##################################### | 100% \u001b[A\u001b[A\u001b[A\n",
      "\n",
      "\n",
      "\n",
      "\n",
      "\n",
      "certifi-2022.12.7    | 147 KB    | ####                                  |  11% \u001b[A\u001b[A\u001b[A\u001b[A\u001b[A\u001b[A\n",
      "\n",
      "\n",
      "\n",
      "\n",
      "\n",
      "xgboost-1.7.1        | 13 KB     | ##################################### | 100% \u001b[A\u001b[A\u001b[A\u001b[A\u001b[A\u001b[A\n",
      "\n",
      "\n",
      "\n",
      "\n",
      "\n",
      "\n",
      "python_abi-3.10      | 4 KB      | ##################################### | 100% \u001b[A\u001b[A\u001b[A\u001b[A\u001b[A\u001b[A\u001b[A\n",
      "\n",
      "py-xgboost-1.7.1     | 201 KB    | ##9                                   |   8% \u001b[A\u001b[A\n",
      "\n",
      "\n",
      "\n",
      "\n",
      "\n",
      "\n",
      "xgboost-1.7.1        | 13 KB     | ##################################### | 100% \u001b[A\u001b[A\u001b[A\u001b[A\u001b[A\u001b[A\u001b[A\n",
      "\n",
      "\n",
      "\n",
      "openssl-1.1.1t       | 1.7 MB    | ##################################### | 100% \u001b[A\u001b[A\u001b[A\u001b[A\n",
      "\n",
      "\n",
      "\n",
      "openssl-1.1.1t       | 1.7 MB    | ##################################### | 100% \u001b[A\u001b[A\u001b[A\u001b[A\n",
      "\n",
      "\n",
      "\n",
      "\n",
      "libxgboost-1.7.1     | 2.7 MB    | 2                                     |   1% \u001b[A\u001b[A\u001b[A\u001b[A\u001b[A\n",
      "\n",
      "py-xgboost-1.7.1     | 201 KB    | ##################################### | 100% \u001b[A\u001b[A\n",
      "\n",
      "\n",
      "\n",
      "\n",
      "libxgboost-1.7.1     | 2.7 MB    | #############3                        |  36% \u001b[A\u001b[A\u001b[A\u001b[A\u001b[A\n",
      "\n",
      "\n",
      "\n",
      "\n",
      "libxgboost-1.7.1     | 2.7 MB    | ####################################2 |  98% \u001b[A\u001b[A\u001b[A\u001b[A\u001b[A\n",
      "\n",
      "\n",
      "\n",
      "\n",
      "                                                                                \u001b[A\u001b[A\u001b[A\u001b[A\u001b[A\n",
      "                                                                                \u001b[A\n",
      "\n",
      "                                                                                \u001b[A\u001b[A\n",
      "\n",
      "\n",
      "                                                                                \u001b[A\u001b[A\u001b[A\n",
      "\n",
      "\n",
      "\n",
      "                                                                                \u001b[A\u001b[A\u001b[A\u001b[A\n",
      "\n",
      "\n",
      "\n",
      "\n",
      "                                                                                \u001b[A\u001b[A\u001b[A\u001b[A\u001b[A\n",
      "\n",
      "\n",
      "\n",
      "\n",
      "\n",
      "                                                                                \u001b[A\u001b[A\u001b[A\u001b[A\u001b[A\u001b[A\n",
      "\n",
      "\n",
      "\n",
      "\n",
      "\n",
      "\n",
      "                                                                                \u001b[A\u001b[A\u001b[A\u001b[A\u001b[A\u001b[A\u001b[A\n",
      "Preparing transaction: done\n",
      "Verifying transaction: done\n",
      "Executing transaction: done\n",
      "\n",
      "Note: you may need to restart the kernel to use updated packages.\n"
     ]
    }
   ],
   "source": [
    "conda install -c conda-forge xgboost"
   ]
  },
  {
   "cell_type": "markdown",
   "id": "a0573ec6-4799-4e87-93ab-4812a037b9dc",
   "metadata": {},
   "source": [
    "param_test1 = {\n",
    "'n-estimators' : [100,200,500,750,1000],\n",
    "'max_depth': [3,5,7,9},\n"
   ]
  },
  {
   "cell_type": "code",
   "execution_count": 237,
   "id": "367722a7-b1a1-487b-929c-1869f8a75fdd",
   "metadata": {},
   "outputs": [
    {
     "ename": "SyntaxError",
     "evalue": "incomplete input (2271411311.py, line 1)",
     "output_type": "error",
     "traceback": [
      "\u001b[0;36m  Cell \u001b[0;32mIn[237], line 1\u001b[0;36m\u001b[0m\n\u001b[0;31m    param_test1={'n-estimators':[100,200,500,750,1000],\u001b[0m\n\u001b[0m                                                       ^\u001b[0m\n\u001b[0;31mSyntaxError\u001b[0m\u001b[0;31m:\u001b[0m incomplete input\n"
     ]
    }
   ],
   "source": [
    "param_test1={'n-estimators':[100,200,500,750,1000],"
   ]
  },
  {
   "cell_type": "code",
   "execution_count": 3,
   "id": "9574479d-0989-4488-94fe-581d08cb00e2",
   "metadata": {},
   "outputs": [
    {
     "ename": "SyntaxError",
     "evalue": "invalid syntax (496672009.py, line 1)",
     "output_type": "error",
     "traceback": [
      "\u001b[0;36m  File \u001b[0;32m\"/var/folders/s2/b836lr_14rl4sgnxnhkm8cm00000gn/T/ipykernel_54337/496672009.py\"\u001b[0;36m, line \u001b[0;32m1\u001b[0m\n\u001b[0;31m    param_test1 = {'n-estimators':[100,200,500,750,1000],'max_depth:[3,5,7,9],'category':[1,3,5],'gamm':[i/10.0 for i in range(0,5)]'subsample':[i/10.0 for i in range(6,10)]'colsample_bytree':[i/10.0 for i in range'6,10)],'reg_alpha':[0,0.001, 0.005, 0.01, 0.05, 0.1, 1],\u001b[0m\n\u001b[0m                                                                               ^\u001b[0m\n\u001b[0;31mSyntaxError\u001b[0m\u001b[0;31m:\u001b[0m invalid syntax\n"
     ]
    }
   ],
   "source": [
    "param_test1 = {'n-estimators':[100,200,500,750,1000],'max_depth:[3,5,7,9],'category':[1,3,5],'gamm':[i/10.0 for i in range(0,5)]'subsample':[i/10.0 for i in range(6,10)]'colsample_bytree':[i/10.0 for i in range'6,10)],'reg_alpha':[0,0.001, 0.005, 0.01, 0.05, 0.1, 1],\n",
    "'learning_rate': [0.01, 0.02, 0.05, 0.1]}"
   ]
  },
  {
   "cell_type": "code",
   "execution_count": 243,
   "id": "f5e58125-d6e5-426c-a434-360ab9979b1a",
   "metadata": {},
   "outputs": [],
   "source": [
    "scoring = {'AUC': 'roc_auc', 'Accuracy':make_scorer(accuracy_score)}\n",
    "                           "
   ]
  },
  {
   "cell_type": "code",
   "execution_count": 245,
   "id": "2403ee71-a813-403d-95ca-080739a17df2",
   "metadata": {},
   "outputs": [
    {
     "ename": "NameError",
     "evalue": "name 'XGBClassifier' is not defined",
     "output_type": "error",
     "traceback": [
      "\u001b[0;31m---------------------------------------------------------------------------\u001b[0m",
      "\u001b[0;31mNameError\u001b[0m                                 Traceback (most recent call last)",
      "Cell \u001b[0;32mIn[245], line 1\u001b[0m\n\u001b[0;32m----> 1\u001b[0m gsearch1 \u001b[38;5;241m=\u001b[39m GridSearchCV(estimator \u001b[38;5;241m=\u001b[39m \u001b[43mXGBClassifier\u001b[49m(),param_grid \u001b[38;5;241m=\u001b[39m param_test1, scoring\u001b[38;5;241m=\u001b[39mscoring, iid\u001b[38;5;241m=\u001b[39m\u001b[38;5;28;01mFalse\u001b[39;00m,cv\u001b[38;5;241m=\u001b[39m\u001b[38;5;241m5\u001b[39m, verbose \u001b[38;5;241m=\u001b[39m \u001b[38;5;241m5\u001b[39m,refit\u001b[38;5;241m=\u001b[39m\u001b[38;5;124m'\u001b[39m\u001b[38;5;124mAccuracy\u001b[39m\u001b[38;5;124m'\u001b[39m)\n",
      "\u001b[0;31mNameError\u001b[0m: name 'XGBClassifier' is not defined"
     ]
    }
   ],
   "source": [
    "gsearch1 = GridSearchCV(estimator = XGBClassifier(),param_grid = param_test1, scoring=scoring, iid=False,cv=5, verbose = 5,refit='Accuracy')                                    "
   ]
  },
  {
   "cell_type": "code",
   "execution_count": 240,
   "id": "de81cd61-6483-4edb-8cb3-49598d664170",
   "metadata": {},
   "outputs": [
    {
     "ename": "NameError",
     "evalue": "name 'gsearch1' is not defined",
     "output_type": "error",
     "traceback": [
      "\u001b[0;31m---------------------------------------------------------------------------\u001b[0m",
      "\u001b[0;31mNameError\u001b[0m                                 Traceback (most recent call last)",
      "Cell \u001b[0;32mIn[240], line 1\u001b[0m\n\u001b[0;32m----> 1\u001b[0m \u001b[43mgsearch1\u001b[49m\u001b[38;5;241m.\u001b[39mfit(X_train, Y_train)\n",
      "\u001b[0;31mNameError\u001b[0m: name 'gsearch1' is not defined"
     ]
    }
   ],
   "source": [
    "gsearch1.fit(X_train, Y_train)"
   ]
  },
  {
   "cell_type": "code",
   "execution_count": 4,
   "id": "5a647cdd-7fe7-4874-bc79-68b9160bcf07",
   "metadata": {},
   "outputs": [
    {
     "ename": "SyntaxError",
     "evalue": "invalid syntax (2916961450.py, line 1)",
     "output_type": "error",
     "traceback": [
      "\u001b[0;36m  File \u001b[0;32m\"/var/folders/s2/b836lr_14rl4sgnxnhkm8cm00000gn/T/ipykernel_54337/2916961450.py\"\u001b[0;36m, line \u001b[0;32m1\u001b[0m\n\u001b[0;31m    {learning_rate=0.02, n-estimators==750, max_depth==3, Name_of_Film2==1, colsample_bytree==0.6, gamma==0.0, reg_alpha== 0.001, subsample==0.8}\u001b[0m\n\u001b[0m                  ^\u001b[0m\n\u001b[0;31mSyntaxError\u001b[0m\u001b[0;31m:\u001b[0m invalid syntax\n"
     ]
    }
   ],
   "source": [
    "{learning_rate=0.02, n-estimators==750, max_depth==3, Name_of_Film2==1, colsample_bytree==0.6, gamma==0.0, reg_alpha== 0.001, subsample==0.8}"
   ]
  },
  {
   "cell_type": "code",
   "execution_count": 255,
   "id": "541b4879-995c-4c80-909f-27860881a01a",
   "metadata": {},
   "outputs": [
    {
     "ename": "NameError",
     "evalue": "name 'XGBClassifier' is not defined",
     "output_type": "error",
     "traceback": [
      "\u001b[0;31m---------------------------------------------------------------------------\u001b[0m",
      "\u001b[0;31mNameError\u001b[0m                                 Traceback (most recent call last)",
      "Cell \u001b[0;32mIn[255], line 1\u001b[0m\n\u001b[0;32m----> 1\u001b[0m xg\u001b[38;5;241m=\u001b[39m\u001b[43mXGBClassifier\u001b[49m(learning_rate\u001b[38;5;241m==\u001b[39m\u001b[38;5;241m0.02\u001b[39m, n\u001b[38;5;241m-\u001b[39mestimators\u001b[38;5;241m==\u001b[39m\u001b[38;5;241m750\u001b[39m, max_depth\u001b[38;5;241m==\u001b[39m\u001b[38;5;241m3\u001b[39m, min_child_weight\u001b[38;5;241m==\u001b[39m\u001b[38;5;241m1\u001b[39m, colsample_bytree\u001b[38;5;241m==\u001b[39m\u001b[38;5;241m0.6\u001b[39m, gamma\u001b[38;5;241m==\u001b[39m\u001b[38;5;241m0.0\u001b[39m, reg_alpha\u001b[38;5;241m==\u001b[39m\u001b[38;5;241m0.001\u001b[39m, subsample\u001b[38;5;241m==\u001b[39m\u001b[38;5;241m0.8\u001b[39m)\n",
      "\u001b[0;31mNameError\u001b[0m: name 'XGBClassifier' is not defined"
     ]
    }
   ],
   "source": [
    "xg=XGBClassifier(learning_rate==0.02, n-estimators==750, max_depth==3, Name_of_Film2==1, colsample_bytree==0.6, gamma==0.0, reg_alpha==0.001, subsample==0.8)"
   ]
  },
  {
   "cell_type": "code",
   "execution_count": 268,
   "id": "00e99b69-fc0a-4af7-92ea-acacf03ade2f",
   "metadata": {},
   "outputs": [
    {
     "ename": "SyntaxError",
     "evalue": "invalid syntax (315676234.py, line 1)",
     "output_type": "error",
     "traceback": [
      "\u001b[0;36m  Cell \u001b[0;32mIn[268], line 1\u001b[0;36m\u001b[0m\n\u001b[0;31m    xg.fit(X_train, y_train),xg_predictions := xg.predict(X_test)\u001b[0m\n\u001b[0m                                            ^\u001b[0m\n\u001b[0;31mSyntaxError\u001b[0m\u001b[0;31m:\u001b[0m invalid syntax\n"
     ]
    }
   ],
   "source": [
    "xg.fit(X_train, y_train)xg_predictions = xg.predict(X_test)"
   ]
  },
  {
   "cell_type": "code",
   "execution_count": 261,
   "id": "612467dd-58b6-4b63-b87a-261d10f7025a",
   "metadata": {},
   "outputs": [],
   "source": [
    "xg_data = pd.read_csv('/Users/margaretsherlock/Documents/UCDPA Course Assignment/10 Years of Movie Awards.csv')"
   ]
  },
  {
   "cell_type": "code",
   "execution_count": 5,
   "id": "568c152a-926f-478f-8cb2-ce27f2c3ebcf",
   "metadata": {},
   "outputs": [
    {
     "ename": "NameError",
     "evalue": "name 'xg_data' is not defined",
     "output_type": "error",
     "traceback": [
      "\u001b[0;31m---------------------------------------------------------------------------\u001b[0m",
      "\u001b[0;31mNameError\u001b[0m                                 Traceback (most recent call last)",
      "\u001b[0;32m/var/folders/s2/b836lr_14rl4sgnxnhkm8cm00000gn/T/ipykernel_54337/4127006278.py\u001b[0m in \u001b[0;36m<module>\u001b[0;34m\u001b[0m\n\u001b[0;32m----> 1\u001b[0;31m \u001b[0mxg_data\u001b[0m\u001b[0;34m.\u001b[0m\u001b[0minsert\u001b[0m\u001b[0;34m(\u001b[0m\u001b[0;34m(\u001b[0m\u001b[0mxg_data\u001b[0m\u001b[0;34m.\u001b[0m\u001b[0mshape\u001b[0m\u001b[0;34m[\u001b[0m\u001b[0;36m1\u001b[0m\u001b[0;34m]\u001b[0m\u001b[0;34m)\u001b[0m\u001b[0;34m,\u001b[0m \u001b[0;34m'Category'\u001b[0m\u001b[0;34m,\u001b[0m \u001b[0mxg\u001b[0m\u001b[0;34m-\u001b[0m\u001b[0mpredictions\u001b[0m\u001b[0;34m)\u001b[0m\u001b[0;34m\u001b[0m\u001b[0;34m\u001b[0m\u001b[0m\n\u001b[0m",
      "\u001b[0;31mNameError\u001b[0m: name 'xg_data' is not defined"
     ]
    }
   ],
   "source": [
    "xg_data.insert((xg_data.shape[1]), 'Category', xg-predictions)"
   ]
  },
  {
   "cell_type": "code",
   "execution_count": 272,
   "id": "fc32314c-c675-47ce-8c49-56a8fa7efee4",
   "metadata": {},
   "outputs": [],
   "source": [
    "xg_data.to_csv('XGBoost_SS_OH_FE_GSCV.csv')"
   ]
  },
  {
   "cell_type": "code",
   "execution_count": 274,
   "id": "1f206de8-ff3e-46a8-9b59-bfa6a4581040",
   "metadata": {},
   "outputs": [
    {
     "data": {
      "text/html": [
       "<div>\n",
       "<style scoped>\n",
       "    .dataframe tbody tr th:only-of-type {\n",
       "        vertical-align: middle;\n",
       "    }\n",
       "\n",
       "    .dataframe tbody tr th {\n",
       "        vertical-align: top;\n",
       "    }\n",
       "\n",
       "    .dataframe thead th {\n",
       "        text-align: right;\n",
       "    }\n",
       "</style>\n",
       "<table border=\"1\" class=\"dataframe\">\n",
       "  <thead>\n",
       "    <tr style=\"text-align: right;\">\n",
       "      <th></th>\n",
       "      <th>Year</th>\n",
       "      <th>Name of Flim2</th>\n",
       "      <th>Rotten Tomatoes Rating</th>\n",
       "      <th>Award</th>\n",
       "      <th>Categories</th>\n",
       "      <th>Award Category</th>\n",
       "    </tr>\n",
       "  </thead>\n",
       "  <tbody>\n",
       "    <tr>\n",
       "      <th>0</th>\n",
       "      <td>2013</td>\n",
       "      <td>The Great Gatsby</td>\n",
       "      <td>48%</td>\n",
       "      <td>Acadamy Awards</td>\n",
       "      <td>Costume Design</td>\n",
       "      <td>Acadamy Awards -  Costume Design</td>\n",
       "    </tr>\n",
       "    <tr>\n",
       "      <th>1</th>\n",
       "      <td>2013</td>\n",
       "      <td>The Great Gatsby</td>\n",
       "      <td>48%</td>\n",
       "      <td>Acadamy Awards</td>\n",
       "      <td>Production Design</td>\n",
       "      <td>Acadamy Awards -  Production Design</td>\n",
       "    </tr>\n",
       "    <tr>\n",
       "      <th>2</th>\n",
       "      <td>2013</td>\n",
       "      <td>The Great Beauty.</td>\n",
       "      <td>91%</td>\n",
       "      <td>Acadamy Awards</td>\n",
       "      <td>Foreign Language Filme</td>\n",
       "      <td>Acadamy Awards -  Foreign Language Filme</td>\n",
       "    </tr>\n",
       "    <tr>\n",
       "      <th>3</th>\n",
       "      <td>2013</td>\n",
       "      <td>Her</td>\n",
       "      <td>94%</td>\n",
       "      <td>Acadamy Awards</td>\n",
       "      <td>Original Screenplay</td>\n",
       "      <td>Acadamy Awards -  Original Screenplay</td>\n",
       "    </tr>\n",
       "    <tr>\n",
       "      <th>4</th>\n",
       "      <td>2013</td>\n",
       "      <td>GRAVITY</td>\n",
       "      <td>96%</td>\n",
       "      <td>Acadamy Awards</td>\n",
       "      <td>Best Director</td>\n",
       "      <td>Acadamy Awards -  Best Director</td>\n",
       "    </tr>\n",
       "  </tbody>\n",
       "</table>\n",
       "</div>"
      ],
      "text/plain": [
       "   Year       Name of Flim2 Rotten Tomatoes Rating           Award  \\\n",
       "0  2013   The Great Gatsby                     48%  Acadamy Awards   \n",
       "1  2013   The Great Gatsby                     48%  Acadamy Awards   \n",
       "2  2013  The Great Beauty.                     91%  Acadamy Awards   \n",
       "3  2013               Her                      94%  Acadamy Awards   \n",
       "4  2013            GRAVITY                     96%  Acadamy Awards   \n",
       "\n",
       "                Categories                            Award Category  \n",
       "0           Costume Design          Acadamy Awards -  Costume Design  \n",
       "1        Production Design       Acadamy Awards -  Production Design  \n",
       "2   Foreign Language Filme  Acadamy Awards -  Foreign Language Filme  \n",
       "3      Original Screenplay     Acadamy Awards -  Original Screenplay  \n",
       "4            Best Director           Acadamy Awards -  Best Director  "
      ]
     },
     "execution_count": 274,
     "metadata": {},
     "output_type": "execute_result"
    }
   ],
   "source": [
    "spreadsheet.head ()"
   ]
  },
  {
   "cell_type": "code",
   "execution_count": null,
   "id": "ffeae4cb-5985-4bc0-bf9a-acf064de9933",
   "metadata": {},
   "outputs": [],
   "source": []
  }
 ],
 "metadata": {
  "kernelspec": {
   "display_name": "Python 3 (ipykernel)",
   "language": "python",
   "name": "python3"
  },
  "language_info": {
   "codemirror_mode": {
    "name": "ipython",
    "version": 3
   },
   "file_extension": ".py",
   "mimetype": "text/x-python",
   "name": "python",
   "nbconvert_exporter": "python",
   "pygments_lexer": "ipython3",
   "version": "3.9.13"
  },
  "toc-autonumbering": true,
  "toc-showcode": true,
  "toc-showmarkdowntxt": false,
  "toc-showtags": true
 },
 "nbformat": 4,
 "nbformat_minor": 5
}
